{
 "cells": [
  {
   "cell_type": "code",
   "execution_count": 228,
   "id": "acecb895",
   "metadata": {},
   "outputs": [],
   "source": [
    "#Tensorflow 설치하기\n",
    "\n",
    "# 필요한 라이브러리 설치 및 임포트\n",
    "\n",
    "import pandas as pd\n",
    "\n",
    "from sklearn.ensemble import RandomForestClassifier\n",
    "from sklearn.metrics import r2_score\n",
    "from sklearn.metrics import f1_score\n",
    "from sklearn.metrics import accuracy_score as acc\n",
    "from sklearn.metrics import recall_score as recall\n",
    "import joblib"
   ]
  },
  {
   "cell_type": "code",
   "execution_count": 229,
   "id": "951600b6",
   "metadata": {},
   "outputs": [],
   "source": [
    "#라이브러리 불러오기\n",
    "\n",
    "import numpy as np\n",
    "import pandas as pd\n",
    "\n",
    "import matplotlib.pyplot as plt\n",
    "import seaborn as sns"
   ]
  },
  {
   "cell_type": "code",
   "execution_count": 230,
   "id": "bc28f0ae",
   "metadata": {
    "scrolled": true
   },
   "outputs": [
    {
     "data": {
      "text/html": [
       "<div>\n",
       "<style scoped>\n",
       "    .dataframe tbody tr th:only-of-type {\n",
       "        vertical-align: middle;\n",
       "    }\n",
       "\n",
       "    .dataframe tbody tr th {\n",
       "        vertical-align: top;\n",
       "    }\n",
       "\n",
       "    .dataframe thead th {\n",
       "        text-align: right;\n",
       "    }\n",
       "</style>\n",
       "<table border=\"1\" class=\"dataframe\">\n",
       "  <thead>\n",
       "    <tr style=\"text-align: right;\">\n",
       "      <th></th>\n",
       "      <th>url_len</th>\n",
       "      <th>url_num_hyphens_dom</th>\n",
       "      <th>url_path_len</th>\n",
       "      <th>url_domain_len</th>\n",
       "      <th>url_hostname_len</th>\n",
       "      <th>url_num_dots</th>\n",
       "      <th>url_num_underscores</th>\n",
       "      <th>url_query_len</th>\n",
       "      <th>url_num_query_para</th>\n",
       "      <th>url_ip_present</th>\n",
       "      <th>...</th>\n",
       "      <th>html_num_tags('script')</th>\n",
       "      <th>html_num_tags('embed')</th>\n",
       "      <th>html_num_tags('object')</th>\n",
       "      <th>html_num_tags('div')</th>\n",
       "      <th>html_num_tags('head')</th>\n",
       "      <th>html_num_tags('body')</th>\n",
       "      <th>html_num_tags('form')</th>\n",
       "      <th>html_num_tags('a')</th>\n",
       "      <th>html_num_tags('applet')</th>\n",
       "      <th>label</th>\n",
       "    </tr>\n",
       "  </thead>\n",
       "  <tbody>\n",
       "    <tr>\n",
       "      <th>0</th>\n",
       "      <td>23.0</td>\n",
       "      <td>0.0</td>\n",
       "      <td>8.0</td>\n",
       "      <td>15.0</td>\n",
       "      <td>15.0</td>\n",
       "      <td>2.0</td>\n",
       "      <td>0.0</td>\n",
       "      <td>0.0</td>\n",
       "      <td>0.0</td>\n",
       "      <td>0.0</td>\n",
       "      <td>...</td>\n",
       "      <td>7.0</td>\n",
       "      <td>0.0</td>\n",
       "      <td>0.0</td>\n",
       "      <td>0.0</td>\n",
       "      <td>1.0</td>\n",
       "      <td>1.0</td>\n",
       "      <td>0.0</td>\n",
       "      <td>0.0</td>\n",
       "      <td>0.0</td>\n",
       "      <td>malicious</td>\n",
       "    </tr>\n",
       "    <tr>\n",
       "      <th>1</th>\n",
       "      <td>75.0</td>\n",
       "      <td>0.0</td>\n",
       "      <td>58.0</td>\n",
       "      <td>17.0</td>\n",
       "      <td>17.0</td>\n",
       "      <td>6.0</td>\n",
       "      <td>0.0</td>\n",
       "      <td>0.0</td>\n",
       "      <td>0.0</td>\n",
       "      <td>0.0</td>\n",
       "      <td>...</td>\n",
       "      <td>18.0</td>\n",
       "      <td>0.0</td>\n",
       "      <td>0.0</td>\n",
       "      <td>20.0</td>\n",
       "      <td>1.0</td>\n",
       "      <td>1.0</td>\n",
       "      <td>0.0</td>\n",
       "      <td>21.0</td>\n",
       "      <td>0.0</td>\n",
       "      <td>benign</td>\n",
       "    </tr>\n",
       "    <tr>\n",
       "      <th>2</th>\n",
       "      <td>20.0</td>\n",
       "      <td>0.0</td>\n",
       "      <td>4.0</td>\n",
       "      <td>16.0</td>\n",
       "      <td>16.0</td>\n",
       "      <td>2.0</td>\n",
       "      <td>0.0</td>\n",
       "      <td>0.0</td>\n",
       "      <td>0.0</td>\n",
       "      <td>0.0</td>\n",
       "      <td>...</td>\n",
       "      <td>33.0</td>\n",
       "      <td>0.0</td>\n",
       "      <td>0.0</td>\n",
       "      <td>101.0</td>\n",
       "      <td>1.0</td>\n",
       "      <td>1.0</td>\n",
       "      <td>3.0</td>\n",
       "      <td>70.0</td>\n",
       "      <td>0.0</td>\n",
       "      <td>benign</td>\n",
       "    </tr>\n",
       "    <tr>\n",
       "      <th>3</th>\n",
       "      <td>27.0</td>\n",
       "      <td>0.0</td>\n",
       "      <td>13.0</td>\n",
       "      <td>14.0</td>\n",
       "      <td>14.0</td>\n",
       "      <td>3.0</td>\n",
       "      <td>0.0</td>\n",
       "      <td>0.0</td>\n",
       "      <td>0.0</td>\n",
       "      <td>0.0</td>\n",
       "      <td>...</td>\n",
       "      <td>15.0</td>\n",
       "      <td>0.0</td>\n",
       "      <td>0.0</td>\n",
       "      <td>151.0</td>\n",
       "      <td>1.0</td>\n",
       "      <td>1.0</td>\n",
       "      <td>1.0</td>\n",
       "      <td>55.0</td>\n",
       "      <td>0.0</td>\n",
       "      <td>benign</td>\n",
       "    </tr>\n",
       "    <tr>\n",
       "      <th>4</th>\n",
       "      <td>39.0</td>\n",
       "      <td>2.0</td>\n",
       "      <td>12.0</td>\n",
       "      <td>27.0</td>\n",
       "      <td>27.0</td>\n",
       "      <td>2.0</td>\n",
       "      <td>0.0</td>\n",
       "      <td>0.0</td>\n",
       "      <td>0.0</td>\n",
       "      <td>0.0</td>\n",
       "      <td>...</td>\n",
       "      <td>10.0</td>\n",
       "      <td>0.0</td>\n",
       "      <td>0.0</td>\n",
       "      <td>332.0</td>\n",
       "      <td>1.0</td>\n",
       "      <td>1.0</td>\n",
       "      <td>0.0</td>\n",
       "      <td>321.0</td>\n",
       "      <td>0.0</td>\n",
       "      <td>benign</td>\n",
       "    </tr>\n",
       "  </tbody>\n",
       "</table>\n",
       "<p>5 rows × 24 columns</p>\n",
       "</div>"
      ],
      "text/plain": [
       "   url_len  url_num_hyphens_dom  url_path_len  url_domain_len  \\\n",
       "0     23.0                  0.0           8.0            15.0   \n",
       "1     75.0                  0.0          58.0            17.0   \n",
       "2     20.0                  0.0           4.0            16.0   \n",
       "3     27.0                  0.0          13.0            14.0   \n",
       "4     39.0                  2.0          12.0            27.0   \n",
       "\n",
       "   url_hostname_len  url_num_dots  url_num_underscores  url_query_len  \\\n",
       "0              15.0           2.0                  0.0            0.0   \n",
       "1              17.0           6.0                  0.0            0.0   \n",
       "2              16.0           2.0                  0.0            0.0   \n",
       "3              14.0           3.0                  0.0            0.0   \n",
       "4              27.0           2.0                  0.0            0.0   \n",
       "\n",
       "   url_num_query_para  url_ip_present  ...  html_num_tags('script')  \\\n",
       "0                 0.0             0.0  ...                      7.0   \n",
       "1                 0.0             0.0  ...                     18.0   \n",
       "2                 0.0             0.0  ...                     33.0   \n",
       "3                 0.0             0.0  ...                     15.0   \n",
       "4                 0.0             0.0  ...                     10.0   \n",
       "\n",
       "   html_num_tags('embed')  html_num_tags('object')  html_num_tags('div')  \\\n",
       "0                     0.0                      0.0                   0.0   \n",
       "1                     0.0                      0.0                  20.0   \n",
       "2                     0.0                      0.0                 101.0   \n",
       "3                     0.0                      0.0                 151.0   \n",
       "4                     0.0                      0.0                 332.0   \n",
       "\n",
       "   html_num_tags('head')  html_num_tags('body')  html_num_tags('form')  \\\n",
       "0                    1.0                    1.0                    0.0   \n",
       "1                    1.0                    1.0                    0.0   \n",
       "2                    1.0                    1.0                    3.0   \n",
       "3                    1.0                    1.0                    1.0   \n",
       "4                    1.0                    1.0                    0.0   \n",
       "\n",
       "   html_num_tags('a')  html_num_tags('applet')      label  \n",
       "0                 0.0                      0.0  malicious  \n",
       "1                21.0                      0.0     benign  \n",
       "2                70.0                      0.0     benign  \n",
       "3                55.0                      0.0     benign  \n",
       "4               321.0                      0.0     benign  \n",
       "\n",
       "[5 rows x 24 columns]"
      ]
     },
     "execution_count": 230,
     "metadata": {},
     "output_type": "execute_result"
    }
   ],
   "source": [
    "train = pd.read_csv('data/train.csv')\n",
    "test = pd.read_csv('data/test.csv')\n",
    "submission = pd.read_csv('data/sample_submission.csv')\n",
    "\n",
    "train.head()"
   ]
  },
  {
   "cell_type": "code",
   "execution_count": 231,
   "id": "08dd5a91",
   "metadata": {},
   "outputs": [],
   "source": [
    "test['url_path_len'].fillna(test['url_len']-test['url_domain_len'],inplace=True)\n",
    "test['url_domain_len'].fillna(test['url_hostname_len'], inplace= True)"
   ]
  },
  {
   "cell_type": "code",
   "execution_count": 232,
   "id": "d4badaf3",
   "metadata": {},
   "outputs": [
    {
     "data": {
      "text/plain": [
       "0       23.0\n",
       "1       75.0\n",
       "2       20.0\n",
       "3       27.0\n",
       "4       39.0\n",
       "        ... \n",
       "3659    68.0\n",
       "3660    66.0\n",
       "3661    90.0\n",
       "3662    46.0\n",
       "3663    18.0\n",
       "Name: url_len, Length: 3664, dtype: float64"
      ]
     },
     "execution_count": 232,
     "metadata": {},
     "output_type": "execute_result"
    }
   ],
   "source": [
    "train['url_len']"
   ]
  },
  {
   "cell_type": "code",
   "execution_count": 233,
   "id": "859459b3",
   "metadata": {},
   "outputs": [
    {
     "data": {
      "text/plain": [
       "0       15.0\n",
       "1       17.0\n",
       "2       16.0\n",
       "3       14.0\n",
       "4       27.0\n",
       "        ... \n",
       "3659    52.0\n",
       "3660    18.0\n",
       "3661    26.0\n",
       "3662    13.0\n",
       "3663    18.0\n",
       "Name: url_domain_len, Length: 3664, dtype: float64"
      ]
     },
     "execution_count": 233,
     "metadata": {},
     "output_type": "execute_result"
    }
   ],
   "source": [
    "train['url_domain_len']"
   ]
  },
  {
   "cell_type": "code",
   "execution_count": 234,
   "id": "ab74858d",
   "metadata": {},
   "outputs": [
    {
     "data": {
      "text/plain": [
       "0       15.0\n",
       "1       17.0\n",
       "2       16.0\n",
       "3       14.0\n",
       "4       27.0\n",
       "        ... \n",
       "3659    52.0\n",
       "3660    18.0\n",
       "3661    26.0\n",
       "3662    13.0\n",
       "3663    18.0\n",
       "Name: url_hostname_len, Length: 3664, dtype: float64"
      ]
     },
     "execution_count": 234,
     "metadata": {},
     "output_type": "execute_result"
    }
   ],
   "source": [
    "train['url_hostname_len']"
   ]
  },
  {
   "cell_type": "code",
   "execution_count": 235,
   "id": "3f5fe742",
   "metadata": {},
   "outputs": [
    {
     "data": {
      "text/plain": [
       "0       15.0\n",
       "1       17.0\n",
       "2       16.0\n",
       "3       14.0\n",
       "4       27.0\n",
       "        ... \n",
       "3659    52.0\n",
       "3660    18.0\n",
       "3661    26.0\n",
       "3662    13.0\n",
       "3663    18.0\n",
       "Name: url_domain_len, Length: 3664, dtype: float64"
      ]
     },
     "execution_count": 235,
     "metadata": {},
     "output_type": "execute_result"
    }
   ],
   "source": [
    "train['url_domain_len']"
   ]
  },
  {
   "cell_type": "code",
   "execution_count": 236,
   "id": "fea4f838",
   "metadata": {
    "scrolled": true
   },
   "outputs": [
    {
     "data": {
      "text/html": [
       "<div>\n",
       "<style scoped>\n",
       "    .dataframe tbody tr th:only-of-type {\n",
       "        vertical-align: middle;\n",
       "    }\n",
       "\n",
       "    .dataframe tbody tr th {\n",
       "        vertical-align: top;\n",
       "    }\n",
       "\n",
       "    .dataframe thead th {\n",
       "        text-align: right;\n",
       "    }\n",
       "</style>\n",
       "<table border=\"1\" class=\"dataframe\">\n",
       "  <thead>\n",
       "    <tr style=\"text-align: right;\">\n",
       "      <th></th>\n",
       "      <th>id</th>\n",
       "      <th>url_len</th>\n",
       "      <th>url_num_hyphens_dom</th>\n",
       "      <th>url_path_len</th>\n",
       "      <th>url_domain_len</th>\n",
       "      <th>url_hostname_len</th>\n",
       "      <th>url_num_dots</th>\n",
       "      <th>url_num_underscores</th>\n",
       "      <th>url_query_len</th>\n",
       "      <th>url_num_query_para</th>\n",
       "      <th>...</th>\n",
       "      <th>html_num_tags('iframe')</th>\n",
       "      <th>html_num_tags('script')</th>\n",
       "      <th>html_num_tags('embed')</th>\n",
       "      <th>html_num_tags('object')</th>\n",
       "      <th>html_num_tags('div')</th>\n",
       "      <th>html_num_tags('head')</th>\n",
       "      <th>html_num_tags('body')</th>\n",
       "      <th>html_num_tags('form')</th>\n",
       "      <th>html_num_tags('a')</th>\n",
       "      <th>html_num_tags('applet')</th>\n",
       "    </tr>\n",
       "  </thead>\n",
       "  <tbody>\n",
       "    <tr>\n",
       "      <th>0</th>\n",
       "      <td>0</td>\n",
       "      <td>97</td>\n",
       "      <td>0</td>\n",
       "      <td>80.0</td>\n",
       "      <td>17.0</td>\n",
       "      <td>17.0</td>\n",
       "      <td>4</td>\n",
       "      <td>0</td>\n",
       "      <td>0</td>\n",
       "      <td>0</td>\n",
       "      <td>...</td>\n",
       "      <td>0</td>\n",
       "      <td>5.0</td>\n",
       "      <td>0</td>\n",
       "      <td>0</td>\n",
       "      <td>12</td>\n",
       "      <td>1</td>\n",
       "      <td>1</td>\n",
       "      <td>1.0</td>\n",
       "      <td>3.0</td>\n",
       "      <td>0</td>\n",
       "    </tr>\n",
       "    <tr>\n",
       "      <th>1</th>\n",
       "      <td>1</td>\n",
       "      <td>37</td>\n",
       "      <td>0</td>\n",
       "      <td>22.0</td>\n",
       "      <td>15.0</td>\n",
       "      <td>15.0</td>\n",
       "      <td>3</td>\n",
       "      <td>1</td>\n",
       "      <td>0</td>\n",
       "      <td>0</td>\n",
       "      <td>...</td>\n",
       "      <td>1</td>\n",
       "      <td>NaN</td>\n",
       "      <td>0</td>\n",
       "      <td>0</td>\n",
       "      <td>158</td>\n",
       "      <td>1</td>\n",
       "      <td>1</td>\n",
       "      <td>NaN</td>\n",
       "      <td>NaN</td>\n",
       "      <td>0</td>\n",
       "    </tr>\n",
       "    <tr>\n",
       "      <th>2</th>\n",
       "      <td>2</td>\n",
       "      <td>44</td>\n",
       "      <td>0</td>\n",
       "      <td>24.0</td>\n",
       "      <td>20.0</td>\n",
       "      <td>20.0</td>\n",
       "      <td>3</td>\n",
       "      <td>3</td>\n",
       "      <td>0</td>\n",
       "      <td>0</td>\n",
       "      <td>...</td>\n",
       "      <td>0</td>\n",
       "      <td>6.0</td>\n",
       "      <td>3</td>\n",
       "      <td>3</td>\n",
       "      <td>34</td>\n",
       "      <td>1</td>\n",
       "      <td>1</td>\n",
       "      <td>0.0</td>\n",
       "      <td>136.0</td>\n",
       "      <td>0</td>\n",
       "    </tr>\n",
       "    <tr>\n",
       "      <th>3</th>\n",
       "      <td>3</td>\n",
       "      <td>40</td>\n",
       "      <td>0</td>\n",
       "      <td>14.0</td>\n",
       "      <td>26.0</td>\n",
       "      <td>26.0</td>\n",
       "      <td>2</td>\n",
       "      <td>0</td>\n",
       "      <td>0</td>\n",
       "      <td>0</td>\n",
       "      <td>...</td>\n",
       "      <td>0</td>\n",
       "      <td>NaN</td>\n",
       "      <td>0</td>\n",
       "      <td>0</td>\n",
       "      <td>29</td>\n",
       "      <td>1</td>\n",
       "      <td>1</td>\n",
       "      <td>1.0</td>\n",
       "      <td>2.0</td>\n",
       "      <td>0</td>\n",
       "    </tr>\n",
       "    <tr>\n",
       "      <th>4</th>\n",
       "      <td>4</td>\n",
       "      <td>43</td>\n",
       "      <td>2</td>\n",
       "      <td>17.0</td>\n",
       "      <td>26.0</td>\n",
       "      <td>26.0</td>\n",
       "      <td>2</td>\n",
       "      <td>0</td>\n",
       "      <td>0</td>\n",
       "      <td>0</td>\n",
       "      <td>...</td>\n",
       "      <td>0</td>\n",
       "      <td>NaN</td>\n",
       "      <td>0</td>\n",
       "      <td>0</td>\n",
       "      <td>41</td>\n",
       "      <td>1</td>\n",
       "      <td>1</td>\n",
       "      <td>NaN</td>\n",
       "      <td>NaN</td>\n",
       "      <td>0</td>\n",
       "    </tr>\n",
       "  </tbody>\n",
       "</table>\n",
       "<p>5 rows × 24 columns</p>\n",
       "</div>"
      ],
      "text/plain": [
       "   id  url_len  url_num_hyphens_dom  url_path_len  url_domain_len  \\\n",
       "0   0       97                    0          80.0            17.0   \n",
       "1   1       37                    0          22.0            15.0   \n",
       "2   2       44                    0          24.0            20.0   \n",
       "3   3       40                    0          14.0            26.0   \n",
       "4   4       43                    2          17.0            26.0   \n",
       "\n",
       "   url_hostname_len  url_num_dots  url_num_underscores  url_query_len  \\\n",
       "0              17.0             4                    0              0   \n",
       "1              15.0             3                    1              0   \n",
       "2              20.0             3                    3              0   \n",
       "3              26.0             2                    0              0   \n",
       "4              26.0             2                    0              0   \n",
       "\n",
       "   url_num_query_para  ...  html_num_tags('iframe')  html_num_tags('script')  \\\n",
       "0                   0  ...                        0                      5.0   \n",
       "1                   0  ...                        1                      NaN   \n",
       "2                   0  ...                        0                      6.0   \n",
       "3                   0  ...                        0                      NaN   \n",
       "4                   0  ...                        0                      NaN   \n",
       "\n",
       "   html_num_tags('embed')  html_num_tags('object')  html_num_tags('div')  \\\n",
       "0                       0                        0                    12   \n",
       "1                       0                        0                   158   \n",
       "2                       3                        3                    34   \n",
       "3                       0                        0                    29   \n",
       "4                       0                        0                    41   \n",
       "\n",
       "   html_num_tags('head')  html_num_tags('body')  html_num_tags('form')  \\\n",
       "0                      1                      1                    1.0   \n",
       "1                      1                      1                    NaN   \n",
       "2                      1                      1                    0.0   \n",
       "3                      1                      1                    1.0   \n",
       "4                      1                      1                    NaN   \n",
       "\n",
       "   html_num_tags('a')  html_num_tags('applet')  \n",
       "0                 3.0                        0  \n",
       "1                 NaN                        0  \n",
       "2               136.0                        0  \n",
       "3                 2.0                        0  \n",
       "4                 NaN                        0  \n",
       "\n",
       "[5 rows x 24 columns]"
      ]
     },
     "execution_count": 236,
     "metadata": {},
     "output_type": "execute_result"
    }
   ],
   "source": [
    "test.head()"
   ]
  },
  {
   "cell_type": "code",
   "execution_count": 237,
   "id": "decbb805",
   "metadata": {},
   "outputs": [
    {
     "data": {
      "text/html": [
       "<div>\n",
       "<style scoped>\n",
       "    .dataframe tbody tr th:only-of-type {\n",
       "        vertical-align: middle;\n",
       "    }\n",
       "\n",
       "    .dataframe tbody tr th {\n",
       "        vertical-align: top;\n",
       "    }\n",
       "\n",
       "    .dataframe thead th {\n",
       "        text-align: right;\n",
       "    }\n",
       "</style>\n",
       "<table border=\"1\" class=\"dataframe\">\n",
       "  <thead>\n",
       "    <tr style=\"text-align: right;\">\n",
       "      <th></th>\n",
       "      <th>id</th>\n",
       "      <th>label</th>\n",
       "    </tr>\n",
       "  </thead>\n",
       "  <tbody>\n",
       "    <tr>\n",
       "      <th>0</th>\n",
       "      <td>0</td>\n",
       "      <td>malicious</td>\n",
       "    </tr>\n",
       "    <tr>\n",
       "      <th>1</th>\n",
       "      <td>1</td>\n",
       "      <td>benign</td>\n",
       "    </tr>\n",
       "    <tr>\n",
       "      <th>2</th>\n",
       "      <td>2</td>\n",
       "      <td>benign</td>\n",
       "    </tr>\n",
       "    <tr>\n",
       "      <th>3</th>\n",
       "      <td>3</td>\n",
       "      <td>benign</td>\n",
       "    </tr>\n",
       "    <tr>\n",
       "      <th>4</th>\n",
       "      <td>4</td>\n",
       "      <td>benign</td>\n",
       "    </tr>\n",
       "  </tbody>\n",
       "</table>\n",
       "</div>"
      ],
      "text/plain": [
       "   id      label\n",
       "0   0  malicious\n",
       "1   1     benign\n",
       "2   2     benign\n",
       "3   3     benign\n",
       "4   4     benign"
      ]
     },
     "execution_count": 237,
     "metadata": {},
     "output_type": "execute_result"
    }
   ],
   "source": [
    "submission.head()"
   ]
  },
  {
   "cell_type": "code",
   "execution_count": 238,
   "id": "28cf6b5b",
   "metadata": {},
   "outputs": [
    {
     "data": {
      "text/plain": [
       "url_len                    0\n",
       "url_num_hyphens_dom        0\n",
       "url_path_len               1\n",
       "url_domain_len             1\n",
       "url_hostname_len           0\n",
       "url_num_dots               0\n",
       "url_num_underscores        0\n",
       "url_query_len              0\n",
       "url_num_query_para         0\n",
       "url_ip_present             0\n",
       "url_entropy                0\n",
       "url_chinese_present        0\n",
       "url_port                   0\n",
       "html_num_tags('iframe')    0\n",
       "html_num_tags('script')    0\n",
       "html_num_tags('embed')     0\n",
       "html_num_tags('object')    0\n",
       "html_num_tags('div')       0\n",
       "html_num_tags('head')      0\n",
       "html_num_tags('body')      0\n",
       "html_num_tags('form')      0\n",
       "html_num_tags('a')         0\n",
       "html_num_tags('applet')    0\n",
       "label                      0\n",
       "dtype: int64"
      ]
     },
     "execution_count": 238,
     "metadata": {},
     "output_type": "execute_result"
    }
   ],
   "source": [
    "train.isnull().sum()"
   ]
  },
  {
   "cell_type": "markdown",
   "id": "22b522fa",
   "metadata": {},
   "source": [
    "## train"
   ]
  },
  {
   "cell_type": "code",
   "execution_count": 239,
   "id": "1a3d55e4",
   "metadata": {},
   "outputs": [],
   "source": [
    "train['label_binary'] = train['label'].apply(lambda x : 0 if x == 'benign' else 1)"
   ]
  },
  {
   "cell_type": "code",
   "execution_count": 240,
   "id": "b51f9236",
   "metadata": {
    "scrolled": false
   },
   "outputs": [
    {
     "ename": "NameError",
     "evalue": "name 'df' is not defined",
     "output_type": "error",
     "traceback": [
      "\u001b[1;31m---------------------------------------------------------------------------\u001b[0m",
      "\u001b[1;31mNameError\u001b[0m                                 Traceback (most recent call last)",
      "\u001b[1;32m~\\AppData\\Local\\Temp\\ipykernel_12016\\1688067602.py\u001b[0m in \u001b[0;36m<module>\u001b[1;34m\u001b[0m\n\u001b[1;32m----> 1\u001b[1;33m \u001b[0mtrain\u001b[0m \u001b[1;33m=\u001b[0m \u001b[0mtrain\u001b[0m\u001b[1;33m.\u001b[0m\u001b[0mdrop_duplicates\u001b[0m\u001b[1;33m(\u001b[0m\u001b[0msubset\u001b[0m \u001b[1;33m=\u001b[0m \u001b[0mlist\u001b[0m\u001b[1;33m(\u001b[0m\u001b[0mdf\u001b[0m\u001b[1;33m.\u001b[0m\u001b[0mcolumns\u001b[0m\u001b[1;33m)\u001b[0m\u001b[1;33m,\u001b[0m \u001b[0mkeep\u001b[0m\u001b[1;33m=\u001b[0m\u001b[1;34m'first'\u001b[0m\u001b[1;33m)\u001b[0m\u001b[1;33m\u001b[0m\u001b[1;33m\u001b[0m\u001b[0m\n\u001b[0m\u001b[0;32m      2\u001b[0m \u001b[0mtrain\u001b[0m\u001b[1;33m\u001b[0m\u001b[1;33m\u001b[0m\u001b[0m\n",
      "\u001b[1;31mNameError\u001b[0m: name 'df' is not defined"
     ]
    }
   ],
   "source": [
    "train = train.drop_duplicates(subset = list(df.columns), keep='first')\n",
    "train"
   ]
  },
  {
   "cell_type": "code",
   "execution_count": 241,
   "id": "5fc3d207",
   "metadata": {},
   "outputs": [],
   "source": [
    "train.dropna(inplace=True)"
   ]
  },
  {
   "cell_type": "code",
   "execution_count": 242,
   "id": "17d2c4f8",
   "metadata": {},
   "outputs": [
    {
     "data": {
      "text/plain": [
       "url_len                    0\n",
       "url_num_hyphens_dom        0\n",
       "url_path_len               0\n",
       "url_domain_len             0\n",
       "url_hostname_len           0\n",
       "url_num_dots               0\n",
       "url_num_underscores        0\n",
       "url_query_len              0\n",
       "url_num_query_para         0\n",
       "url_ip_present             0\n",
       "url_entropy                0\n",
       "url_chinese_present        0\n",
       "url_port                   0\n",
       "html_num_tags('iframe')    0\n",
       "html_num_tags('script')    0\n",
       "html_num_tags('embed')     0\n",
       "html_num_tags('object')    0\n",
       "html_num_tags('div')       0\n",
       "html_num_tags('head')      0\n",
       "html_num_tags('body')      0\n",
       "html_num_tags('form')      0\n",
       "html_num_tags('a')         0\n",
       "html_num_tags('applet')    0\n",
       "label                      0\n",
       "label_binary               0\n",
       "dtype: int64"
      ]
     },
     "execution_count": 242,
     "metadata": {},
     "output_type": "execute_result"
    }
   ],
   "source": [
    "train.isnull().sum()"
   ]
  },
  {
   "cell_type": "code",
   "execution_count": 243,
   "id": "4ea5b069",
   "metadata": {},
   "outputs": [],
   "source": [
    "temp = train.corr()\n",
    "mask = np.zeros_like(temp)\n",
    "mask[np.triu_indices_from(mask)] = True\n",
    "mask = np.where(mask == 1, 0, 1)\n",
    "result = mask * temp\n",
    "result = result[result != 0]"
   ]
  },
  {
   "cell_type": "code",
   "execution_count": 244,
   "id": "d39efbb3",
   "metadata": {
    "scrolled": true
   },
   "outputs": [
    {
     "data": {
      "text/plain": [
       "url_hostname_len           0.383235\n",
       "url_domain_len             0.379331\n",
       "url_num_hyphens_dom        0.354666\n",
       "url_query_len              0.188576\n",
       "url_num_query_para         0.184108\n",
       "url_entropy                0.165808\n",
       "html_num_tags('form')      0.122838\n",
       "html_num_tags('body')      0.111286\n",
       "html_num_tags('head')      0.024306\n",
       "url_len                    0.007357\n",
       "url_port                  -0.011060\n",
       "html_num_tags('iframe')   -0.021871\n",
       "url_num_dots              -0.045959\n",
       "html_num_tags('div')      -0.063515\n",
       "url_ip_present            -0.078929\n",
       "url_path_len              -0.100681\n",
       "html_num_tags('object')   -0.104033\n",
       "html_num_tags('embed')    -0.107671\n",
       "html_num_tags('a')        -0.121835\n",
       "url_num_underscores       -0.128536\n",
       "html_num_tags('script')   -0.201222\n",
       "url_chinese_present             NaN\n",
       "html_num_tags('applet')         NaN\n",
       "label_binary                    NaN\n",
       "Name: label_binary, dtype: float64"
      ]
     },
     "execution_count": 244,
     "metadata": {},
     "output_type": "execute_result"
    }
   ],
   "source": [
    "result.loc['label_binary'].sort_values(ascending = False)"
   ]
  },
  {
   "cell_type": "code",
   "execution_count": 245,
   "id": "7a38c695",
   "metadata": {
    "scrolled": true
   },
   "outputs": [
    {
     "name": "stdout",
     "output_type": "stream",
     "text": [
      "[\"html_num_tags('head')\", 'url_len', 'url_port', \"html_num_tags('iframe')\", 'url_num_dots', \"html_num_tags('div')\", 'url_ip_present', \"html_num_tags('applet')\", 'url_chinese_present']\n"
     ]
    }
   ],
   "source": [
    "col_name = list(result.loc['label_binary'].sort_values(ascending = False)[8:15].index)\n",
    "col_name.append(\"html_num_tags('applet')\")\n",
    "col_name.append(\"url_chinese_present\")\n",
    "print(col_name)"
   ]
  },
  {
   "cell_type": "code",
   "execution_count": 246,
   "id": "86adff3a",
   "metadata": {},
   "outputs": [],
   "source": [
    "train.drop(col_name, axis=1, inplace=True)"
   ]
  },
  {
   "cell_type": "code",
   "execution_count": 247,
   "id": "1c8558ca",
   "metadata": {
    "scrolled": true
   },
   "outputs": [
    {
     "data": {
      "text/plain": [
       "url_hostname_len           0.383235\n",
       "url_domain_len             0.379331\n",
       "url_num_hyphens_dom        0.354666\n",
       "url_query_len              0.188576\n",
       "url_num_query_para         0.184108\n",
       "url_entropy                0.165808\n",
       "html_num_tags('form')      0.122838\n",
       "html_num_tags('body')      0.111286\n",
       "url_path_len              -0.100681\n",
       "html_num_tags('object')   -0.104033\n",
       "html_num_tags('embed')    -0.107671\n",
       "html_num_tags('a')        -0.121835\n",
       "url_num_underscores       -0.128536\n",
       "html_num_tags('script')   -0.201222\n",
       "label_binary                    NaN\n",
       "Name: label_binary, dtype: float64"
      ]
     },
     "execution_count": 247,
     "metadata": {},
     "output_type": "execute_result"
    }
   ],
   "source": [
    "temp = train.corr()\n",
    "mask = np.zeros_like(temp)\n",
    "mask[np.triu_indices_from(mask)] = True\n",
    "mask = np.where(mask == 1, 0, 1)\n",
    "result = mask * temp\n",
    "result = result[result != 0]\n",
    "\n",
    "result.loc['label_binary'].sort_values(ascending = False)"
   ]
  },
  {
   "cell_type": "code",
   "execution_count": 277,
   "id": "9069cebe",
   "metadata": {},
   "outputs": [
    {
     "data": {
      "image/png": "[encoded data removed]",
      "text/plain": [
       "<Figure size 1600x1600 with 2 Axes>"
      ]
     },
     "metadata": {},
     "output_type": "display_data"
    }
   ],
   "source": [
    "plt.figure(figsize = (16, 16))\n",
    "sns.heatmap(train.corr(), \n",
    "            annot = True,            # 숫자(상관계수) 표기 여부\n",
    "            fmt = '.3f',             # 숫자 포멧 : 소수점 3자리까지 표기\n",
    "            cmap = 'RdYlBu_r',       # 칼라맵\n",
    "            vmin = -1, vmax = 1)     # 값의 최소, 최대값값\n",
    "plt.show()"
   ]
  },
  {
   "cell_type": "markdown",
   "id": "3f423126",
   "metadata": {},
   "source": [
    "url_query_len = url_num_query_para          \n",
    "url_domain_len = url_hostname_len              \n",
    "url_len = url_path_len"
   ]
  },
  {
   "cell_type": "markdown",
   "id": "e2c4a70d",
   "metadata": {},
   "source": [
    "### url_num_hyphens_dom"
   ]
  },
  {
   "cell_type": "code",
   "execution_count": 249,
   "id": "0ac2150a",
   "metadata": {},
   "outputs": [
    {
     "data": {
      "text/plain": [
       "array([ 0.,  2.,  1.,  3.,  4.,  6.,  5., 14.])"
      ]
     },
     "execution_count": 249,
     "metadata": {},
     "output_type": "execute_result"
    }
   ],
   "source": [
    "train.url_num_hyphens_dom.unique()"
   ]
  },
  {
   "cell_type": "code",
   "execution_count": 250,
   "id": "6bd51b61",
   "metadata": {},
   "outputs": [
    {
     "data": {
      "text/plain": [
       "0.0     2733\n",
       "1.0      509\n",
       "2.0      314\n",
       "3.0       71\n",
       "4.0       26\n",
       "5.0        5\n",
       "6.0        3\n",
       "14.0       1\n",
       "Name: url_num_hyphens_dom, dtype: int64"
      ]
     },
     "execution_count": 250,
     "metadata": {},
     "output_type": "execute_result"
    }
   ],
   "source": [
    "train.url_num_hyphens_dom.value_counts()"
   ]
  },
  {
   "cell_type": "code",
   "execution_count": 251,
   "id": "2d9094ce",
   "metadata": {},
   "outputs": [
    {
     "data": {
      "text/plain": [
       "0    1693\n",
       "1    1040\n",
       "Name: label_binary, dtype: int64"
      ]
     },
     "execution_count": 251,
     "metadata": {},
     "output_type": "execute_result"
    }
   ],
   "source": [
    "train[train.url_num_hyphens_dom == 0.0].label_binary.value_counts()"
   ]
  },
  {
   "cell_type": "code",
   "execution_count": 252,
   "id": "bf937c52",
   "metadata": {},
   "outputs": [
    {
     "data": {
      "text/plain": [
       "1    265\n",
       "0     49\n",
       "Name: label_binary, dtype: int64"
      ]
     },
     "execution_count": 252,
     "metadata": {},
     "output_type": "execute_result"
    }
   ],
   "source": [
    "train[train.url_num_hyphens_dom == 2.0].label_binary.value_counts()"
   ]
  },
  {
   "cell_type": "markdown",
   "id": "3588f888",
   "metadata": {},
   "source": [
    "### url_num_underscores"
   ]
  },
  {
   "cell_type": "code",
   "execution_count": 253,
   "id": "4094b879",
   "metadata": {},
   "outputs": [
    {
     "data": {
      "text/plain": [
       "array([ 0.,  1.,  2.,  3., 11., 12.,  4., 10.,  5.,  6., 14., 18., 15.])"
      ]
     },
     "execution_count": 253,
     "metadata": {},
     "output_type": "execute_result"
    }
   ],
   "source": [
    "train.url_num_underscores.unique()"
   ]
  },
  {
   "cell_type": "code",
   "execution_count": 254,
   "id": "4ba63119",
   "metadata": {},
   "outputs": [
    {
     "data": {
      "text/plain": [
       "0.0     3204\n",
       "1.0      257\n",
       "2.0       87\n",
       "3.0       57\n",
       "4.0       29\n",
       "6.0        7\n",
       "14.0       6\n",
       "5.0        5\n",
       "12.0       4\n",
       "10.0       2\n",
       "18.0       2\n",
       "11.0       1\n",
       "15.0       1\n",
       "Name: url_num_underscores, dtype: int64"
      ]
     },
     "execution_count": 254,
     "metadata": {},
     "output_type": "execute_result"
    }
   ],
   "source": [
    "train.url_num_underscores.value_counts()"
   ]
  },
  {
   "cell_type": "code",
   "execution_count": 255,
   "id": "28ff1b47",
   "metadata": {},
   "outputs": [
    {
     "data": {
      "text/plain": [
       "0    184\n",
       "1     73\n",
       "Name: label_binary, dtype: int64"
      ]
     },
     "execution_count": 255,
     "metadata": {},
     "output_type": "execute_result"
    }
   ],
   "source": [
    "train[train.url_num_underscores == 1.0].label_binary.value_counts()"
   ]
  },
  {
   "cell_type": "code",
   "execution_count": 45,
   "id": "24e8b5d5",
   "metadata": {
    "scrolled": true
   },
   "outputs": [
    {
     "data": {
      "text/plain": [
       "array([  0.,  21.,  41.,  36.,  45.,  71.,  11.,  27., 157.,  62., 124.,\n",
       "        48., 132., 289.,  59.,  70.,  28.,  47., 165.,  44.,  35.,  20.,\n",
       "        53.,  90., 140., 141.,  51.,   9.,  16., 114.,   5.,  55., 125.,\n",
       "        13.,  31.,  34., 106., 162., 145.,  98.,  15., 110., 144., 200.,\n",
       "        37.,  52., 271.,  49., 122., 312.,  42.,  85.,  18., 146., 350.,\n",
       "        82., 102., 429.,   6.,  57.,  40.,  68.,  94., 173., 208.,  19.,\n",
       "       185., 248.,  17.,  64.,  56.,  25.,  30.,  81., 156., 111., 120.,\n",
       "        43.])"
      ]
     },
     "execution_count": 45,
     "metadata": {},
     "output_type": "execute_result"
    }
   ],
   "source": [
    "train.url_query_len.unique()"
   ]
  },
  {
   "cell_type": "markdown",
   "id": "3a36613a",
   "metadata": {},
   "source": [
    "### url_num_query_para"
   ]
  },
  {
   "cell_type": "code",
   "execution_count": 46,
   "id": "d3804334",
   "metadata": {},
   "outputs": [
    {
     "data": {
      "text/plain": [
       "array([0., 1., 2., 3., 6., 7., 4., 9., 8.])"
      ]
     },
     "execution_count": 46,
     "metadata": {},
     "output_type": "execute_result"
    }
   ],
   "source": [
    "train.url_num_query_para.unique()"
   ]
  },
  {
   "cell_type": "code",
   "execution_count": 65,
   "id": "e906d3ee",
   "metadata": {
    "scrolled": true
   },
   "outputs": [
    {
     "data": {
      "text/plain": [
       "0.0    3053\n",
       "1.0      98\n",
       "2.0      35\n",
       "3.0      31\n",
       "6.0       5\n",
       "7.0       4\n",
       "9.0       2\n",
       "8.0       2\n",
       "4.0       1\n",
       "Name: url_num_query_para, dtype: int64"
      ]
     },
     "execution_count": 65,
     "metadata": {},
     "output_type": "execute_result"
    }
   ],
   "source": [
    "train.url_num_query_para.value_counts()"
   ]
  },
  {
   "cell_type": "code",
   "execution_count": 46,
   "id": "c00520e0",
   "metadata": {},
   "outputs": [
    {
     "data": {
      "text/plain": [
       "1    41\n",
       "Name: label_binary, dtype: int64"
      ]
     },
     "execution_count": 46,
     "metadata": {},
     "output_type": "execute_result"
    }
   ],
   "source": [
    "train[train.url_num_query_para == 2.0].label_binary.value_counts()"
   ]
  },
  {
   "cell_type": "markdown",
   "id": "9a15123b",
   "metadata": {},
   "source": [
    "### html_num_tags"
   ]
  },
  {
   "cell_type": "code",
   "execution_count": 48,
   "id": "90063181",
   "metadata": {
    "scrolled": true
   },
   "outputs": [
    {
     "data": {
      "text/plain": [
       "array([  7.,  18.,  33.,  15.,  10.,   4.,   8.,  22.,  17.,   3.,  36.,\n",
       "        13.,   0.,   2.,  12.,   5.,  24.,  16.,   1.,   6.,  21.,  14.,\n",
       "        28.,  11.,  42.,  35.,   9.,  43.,  25.,  27., 104.,  23., 108.,\n",
       "        19.,  53.,  31.,  46.,  26.,  37.,  78.,  29.,  77.,  47.,  87.,\n",
       "        83.,  38.,  50.,  49.,  20.,  44.,  32.,  45.,  48.,  61.,  39.,\n",
       "        40.,  30.,  56.,  74.,  34.,  60.,  97., 267.,  41.,  52., 140.,\n",
       "        65.,  51.,  90.,  98.,  70.,  54.,  69., 129.,  59.,  82., 174.,\n",
       "        63.])"
      ]
     },
     "execution_count": 48,
     "metadata": {},
     "output_type": "execute_result"
    }
   ],
   "source": [
    "train[\"html_num_tags('script')\"].unique()"
   ]
  },
  {
   "cell_type": "code",
   "execution_count": 24,
   "id": "9dbac70c",
   "metadata": {},
   "outputs": [
    {
     "data": {
      "text/plain": [
       "2.0     646\n",
       "0.0     486\n",
       "1.0     355\n",
       "3.0     231\n",
       "9.0     184\n",
       "8.0     171\n",
       "4.0     153\n",
       "17.0    133\n",
       "5.0     121\n",
       "6.0     109\n",
       "7.0     100\n",
       "13.0     84\n",
       "11.0     78\n",
       "10.0     74\n",
       "Name: html_num_tags('script'), dtype: int64"
      ]
     },
     "execution_count": 24,
     "metadata": {},
     "output_type": "execute_result"
    }
   ],
   "source": [
    "train[\"html_num_tags('script')\"].value_counts()[:10]"
   ]
  },
  {
   "cell_type": "code",
   "execution_count": 22,
   "id": "738aa576",
   "metadata": {},
   "outputs": [
    {
     "data": {
      "text/plain": [
       "array([  5.,  nan,   6.,   1.,  25.,   2.,  45.,  17.,  24.,   9.,   7.,\n",
       "         0.,  21.,  12.,  16.,  13.,   4.,  15.,   8.,   3.,  32.,  65.,\n",
       "        14.,  11.,  20.,  10.,  33.,  22.,  35.,  68.,  28.,  44.,  27.,\n",
       "        42.,  30.,  18.,  58.,  23.,  26.,  36.,  19.,  39.,  54.,  47.,\n",
       "        49.,  63.,  46., 158.,  43.,  71.,  87.,  70.,  31.,  29.,  48.,\n",
       "        34.,  73.,  38.,  53.,  52.,  88.,  61.,  97.,  37.,  67.])"
      ]
     },
     "execution_count": 22,
     "metadata": {},
     "output_type": "execute_result"
    }
   ],
   "source": [
    "test[\"html_num_tags('script')\"].unique()"
   ]
  },
  {
   "cell_type": "markdown",
   "id": "dd0f7784",
   "metadata": {},
   "source": [
    "### embed"
   ]
  },
  {
   "cell_type": "code",
   "execution_count": 49,
   "id": "3e229a89",
   "metadata": {},
   "outputs": [
    {
     "data": {
      "text/plain": [
       "array([0., 1., 3.])"
      ]
     },
     "execution_count": 49,
     "metadata": {},
     "output_type": "execute_result"
    }
   ],
   "source": [
    "train[\"html_num_tags('embed')\"].unique()"
   ]
  },
  {
   "cell_type": "code",
   "execution_count": 61,
   "id": "30fa39d4",
   "metadata": {},
   "outputs": [
    {
     "data": {
      "text/plain": [
       "0.0    3173\n",
       "1.0      56\n",
       "3.0       2\n",
       "Name: html_num_tags('embed'), dtype: int64"
      ]
     },
     "execution_count": 61,
     "metadata": {},
     "output_type": "execute_result"
    }
   ],
   "source": [
    "train[\"html_num_tags('embed')\"].value_counts()"
   ]
  },
  {
   "cell_type": "code",
   "execution_count": 50,
   "id": "68785cc0",
   "metadata": {},
   "outputs": [
    {
     "data": {
      "text/plain": [
       "1    1802\n",
       "0    1798\n",
       "Name: label_binary, dtype: int64"
      ]
     },
     "execution_count": 50,
     "metadata": {},
     "output_type": "execute_result"
    }
   ],
   "source": [
    "train[train[\"html_num_tags('embed')\"] == 0.0].label_binary.value_counts()"
   ]
  },
  {
   "cell_type": "markdown",
   "id": "cabe900f",
   "metadata": {},
   "source": [
    "### object"
   ]
  },
  {
   "cell_type": "code",
   "execution_count": 214,
   "id": "f9e1670a",
   "metadata": {},
   "outputs": [
    {
     "data": {
      "text/plain": [
       "array([0., 1., 2., 3., 8., 4., 5.])"
      ]
     },
     "execution_count": 214,
     "metadata": {},
     "output_type": "execute_result"
    }
   ],
   "source": [
    "train[\"html_num_tags('object')\"].unique()"
   ]
  },
  {
   "cell_type": "code",
   "execution_count": 215,
   "id": "866e4698",
   "metadata": {
    "scrolled": true
   },
   "outputs": [
    {
     "data": {
      "text/plain": [
       "0.0    3577\n",
       "1.0      76\n",
       "2.0       5\n",
       "3.0       1\n",
       "8.0       1\n",
       "4.0       1\n",
       "5.0       1\n",
       "Name: html_num_tags('object'), dtype: int64"
      ]
     },
     "execution_count": 215,
     "metadata": {},
     "output_type": "execute_result"
    }
   ],
   "source": [
    "train[\"html_num_tags('object')\"].value_counts()"
   ]
  },
  {
   "cell_type": "code",
   "execution_count": 216,
   "id": "4b2c49ad",
   "metadata": {},
   "outputs": [
    {
     "data": {
      "text/plain": [
       "array([0, 3, 1, 2, 4, 6], dtype=int64)"
      ]
     },
     "execution_count": 216,
     "metadata": {},
     "output_type": "execute_result"
    }
   ],
   "source": [
    "test[\"html_num_tags('object')\"].unique()"
   ]
  },
  {
   "cell_type": "code",
   "execution_count": 217,
   "id": "ace8c7e0",
   "metadata": {},
   "outputs": [
    {
     "data": {
      "text/plain": [
       "1    1799\n",
       "0    1778\n",
       "Name: label_binary, dtype: int64"
      ]
     },
     "execution_count": 217,
     "metadata": {},
     "output_type": "execute_result"
    }
   ],
   "source": [
    "train[train[\"html_num_tags('object')\"] == 0.0].label_binary.value_counts()"
   ]
  },
  {
   "cell_type": "code",
   "execution_count": 218,
   "id": "b97eb8b3",
   "metadata": {},
   "outputs": [
    {
     "data": {
      "text/plain": [
       "0    69\n",
       "1     7\n",
       "Name: label_binary, dtype: int64"
      ]
     },
     "execution_count": 218,
     "metadata": {},
     "output_type": "execute_result"
    }
   ],
   "source": [
    "train[train[\"html_num_tags('object')\"] == 1.0].label_binary.value_counts()"
   ]
  },
  {
   "cell_type": "code",
   "execution_count": 219,
   "id": "b98d7750",
   "metadata": {},
   "outputs": [
    {
     "data": {
      "text/plain": [
       "0    5\n",
       "Name: label_binary, dtype: int64"
      ]
     },
     "execution_count": 219,
     "metadata": {},
     "output_type": "execute_result"
    }
   ],
   "source": [
    "train[train[\"html_num_tags('object')\"] == 2.0].label_binary.value_counts()"
   ]
  },
  {
   "cell_type": "markdown",
   "id": "a2ac92bd",
   "metadata": {},
   "source": [
    "### Body"
   ]
  },
  {
   "cell_type": "code",
   "execution_count": 64,
   "id": "3c6a1de5",
   "metadata": {},
   "outputs": [
    {
     "data": {
      "text/plain": [
       "array([1., 2., 0., 3.])"
      ]
     },
     "execution_count": 64,
     "metadata": {},
     "output_type": "execute_result"
    }
   ],
   "source": [
    "train[\"html_num_tags('body')\"].unique()"
   ]
  },
  {
   "cell_type": "code",
   "execution_count": 20,
   "id": "d4191e12",
   "metadata": {},
   "outputs": [
    {
     "data": {
      "text/plain": [
       "array([1, 3, 0, 2], dtype=int64)"
      ]
     },
     "execution_count": 20,
     "metadata": {},
     "output_type": "execute_result"
    }
   ],
   "source": [
    "test[\"html_num_tags('body')\"].unique()"
   ]
  },
  {
   "cell_type": "code",
   "execution_count": 65,
   "id": "a0153b88",
   "metadata": {},
   "outputs": [
    {
     "data": {
      "text/plain": [
       "0    30\n",
       "1    27\n",
       "Name: label_binary, dtype: int64"
      ]
     },
     "execution_count": 65,
     "metadata": {},
     "output_type": "execute_result"
    }
   ],
   "source": [
    "train[train[\"html_num_tags('body')\"] == 0.0].label_binary.value_counts()"
   ]
  },
  {
   "cell_type": "markdown",
   "id": "7355c65a",
   "metadata": {},
   "source": [
    "### form"
   ]
  },
  {
   "cell_type": "code",
   "execution_count": 57,
   "id": "8b651a5e",
   "metadata": {
    "scrolled": true
   },
   "outputs": [
    {
     "data": {
      "text/plain": [
       "array([ 0.,  3.,  1.,  2.,  5.,  9.,  4.,  7., 57., 19.,  8., 11.,  6.,\n",
       "       10.])"
      ]
     },
     "execution_count": 57,
     "metadata": {},
     "output_type": "execute_result"
    }
   ],
   "source": [
    "train[\"html_num_tags('form')\"].unique()"
   ]
  },
  {
   "cell_type": "code",
   "execution_count": 19,
   "id": "0e4e3e4c",
   "metadata": {},
   "outputs": [
    {
     "data": {
      "text/plain": [
       "array([ 1., nan,  0.,  3.,  4.,  2.,  5., 12., 19.,  6.,  7.])"
      ]
     },
     "execution_count": 19,
     "metadata": {},
     "output_type": "execute_result"
    }
   ],
   "source": [
    "test[\"html_num_tags('form')\"].unique()"
   ]
  },
  {
   "cell_type": "code",
   "execution_count": 70,
   "id": "a941dccd",
   "metadata": {},
   "outputs": [],
   "source": [
    "#train[\"html_num_tags('a')\"].unique()"
   ]
  },
  {
   "cell_type": "code",
   "execution_count": 72,
   "id": "48d1a690",
   "metadata": {},
   "outputs": [],
   "source": [
    "#train.url_path_len.unique()"
   ]
  },
  {
   "cell_type": "code",
   "execution_count": 73,
   "id": "c5f94ba7",
   "metadata": {},
   "outputs": [
    {
     "data": {
      "text/plain": [
       "array([ 15.,  17.,  16.,  14.,  27.,  18.,  19.,  25.,  13.,  23.,  20.,\n",
       "        12.,  10.,  34.,  24.,  32.,  22.,  30.,  28.,  11.,  26.,  42.,\n",
       "         9.,  21.,  33.,  43.,   8.,  31.,  44.,   6.,  48.,   7.,  37.,\n",
       "         4.,  68.,  29.,  36.,  40.,  46., 101.,  39.,  38.,  35.,  61.,\n",
       "        47.,  45.,  52.,  72.,  55.,  56.,  57., 104.,   5.,  41.,  51.,\n",
       "        74.,  60.,  49., 109.,  85., 100.,  54.,  62.,  53.,  77.,  63.,\n",
       "       103.])"
      ]
     },
     "execution_count": 73,
     "metadata": {},
     "output_type": "execute_result"
    }
   ],
   "source": [
    "train.url_hostname_len.unique()"
   ]
  },
  {
   "cell_type": "code",
   "execution_count": 57,
   "id": "0581455d",
   "metadata": {
    "scrolled": true
   },
   "outputs": [
    {
     "data": {
      "text/plain": [
       "0    926\n",
       "1    264\n",
       "Name: label_binary, dtype: int64"
      ]
     },
     "execution_count": 57,
     "metadata": {},
     "output_type": "execute_result"
    }
   ],
   "source": [
    "train[train[\"html_num_tags('form')\"] == 0.0].label_binary.value_counts()"
   ]
  },
  {
   "cell_type": "markdown",
   "id": "3e11ea5f",
   "metadata": {},
   "source": [
    "# one-hot"
   ]
  },
  {
   "cell_type": "code",
   "execution_count": 260,
   "id": "997f0182",
   "metadata": {},
   "outputs": [],
   "source": [
    "one_feature = [\"html_num_tags('object')\",\n",
    "\"html_num_tags('embed')\",\n",
    "\"url_num_query_para\",\n",
    "\"url_num_hyphens_dom\",\n",
    "\"url_num_underscores\"]"
   ]
  },
  {
   "cell_type": "code",
   "execution_count": 261,
   "id": "350dcce5",
   "metadata": {
    "scrolled": true
   },
   "outputs": [
    {
     "name": "stdout",
     "output_type": "stream",
     "text": [
      "html_num_tags('object')\n",
      "html_num_tags('embed')\n",
      "url_num_query_para\n",
      "url_num_hyphens_dom\n",
      "url_num_underscores\n"
     ]
    }
   ],
   "source": [
    "def one_hot(df,ft):\n",
    "    df[ft] = df[ft].apply(lambda x : 0 if x == 0 else 1)\n",
    "\n",
    "for i in one_feature:\n",
    "    print(i)\n",
    "    one_hot(train,i)\n",
    "\n",
    "train = pd.get_dummies(train, columns = one_feature)"
   ]
  },
  {
   "cell_type": "code",
   "execution_count": 262,
   "id": "b85c4670",
   "metadata": {},
   "outputs": [
    {
     "name": "stdout",
     "output_type": "stream",
     "text": [
      "html_num_tags('object')\n",
      "html_num_tags('embed')\n",
      "url_num_query_para\n",
      "url_num_hyphens_dom\n",
      "url_num_underscores\n"
     ]
    }
   ],
   "source": [
    "for i in one_feature:\n",
    "    print(i)\n",
    "    one_hot(test,i)\n",
    "\n",
    "test = pd.get_dummies(test, columns = one_feature)"
   ]
  },
  {
   "cell_type": "markdown",
   "id": "965ebc27",
   "metadata": {},
   "source": [
    "## test"
   ]
  },
  {
   "cell_type": "code",
   "execution_count": 263,
   "id": "5469f9f7",
   "metadata": {
    "scrolled": true
   },
   "outputs": [
    {
     "data": {
      "text/plain": [
       "Index(['url_path_len', 'url_domain_len', 'url_hostname_len', 'url_query_len',\n",
       "       'url_entropy', 'html_num_tags('script')', 'html_num_tags('body')',\n",
       "       'html_num_tags('form')', 'html_num_tags('a')', 'label', 'label_binary',\n",
       "       'html_num_tags('object')_0', 'html_num_tags('object')_1',\n",
       "       'html_num_tags('embed')_0', 'html_num_tags('embed')_1',\n",
       "       'url_num_query_para_0', 'url_num_query_para_1', 'url_num_hyphens_dom_0',\n",
       "       'url_num_hyphens_dom_1', 'url_num_underscores_0',\n",
       "       'url_num_underscores_1'],\n",
       "      dtype='object')"
      ]
     },
     "execution_count": 263,
     "metadata": {},
     "output_type": "execute_result"
    }
   ],
   "source": [
    "train.columns"
   ]
  },
  {
   "cell_type": "code",
   "execution_count": 264,
   "id": "b3008257",
   "metadata": {},
   "outputs": [],
   "source": [
    "Features_ = ['url_path_len', 'url_domain_len', 'url_hostname_len', 'url_query_len',\n",
    "       'url_entropy',\"html_num_tags('script')\", \"html_num_tags('body')\",\n",
    "       \"html_num_tags('form')\", \"html_num_tags('a')\",\n",
    "       \"html_num_tags('object')_0\", \"html_num_tags('object')_1\",\n",
    "       \"html_num_tags('embed')_0\", \"html_num_tags('embed')_1\",\n",
    "       'url_num_query_para_0', 'url_num_query_para_1', 'url_num_hyphens_dom_0',\n",
    "       'url_num_hyphens_dom_1', 'url_num_underscores_0',\n",
    "       'url_num_underscores_1']"
   ]
  },
  {
   "cell_type": "code",
   "execution_count": 265,
   "id": "089baf74",
   "metadata": {},
   "outputs": [],
   "source": [
    "test = test[Features_]"
   ]
  },
  {
   "cell_type": "code",
   "execution_count": 266,
   "id": "74e5c6e0",
   "metadata": {},
   "outputs": [
    {
     "data": {
      "text/plain": [
       "url_path_len                  86\n",
       "url_domain_len               101\n",
       "url_hostname_len             463\n",
       "url_query_len                  0\n",
       "url_entropy                    0\n",
       "html_num_tags('script')      467\n",
       "html_num_tags('body')          0\n",
       "html_num_tags('form')        467\n",
       "html_num_tags('a')           461\n",
       "html_num_tags('object')_0      0\n",
       "html_num_tags('object')_1      0\n",
       "html_num_tags('embed')_0       0\n",
       "html_num_tags('embed')_1       0\n",
       "url_num_query_para_0           0\n",
       "url_num_query_para_1           0\n",
       "url_num_hyphens_dom_0          0\n",
       "url_num_hyphens_dom_1          0\n",
       "url_num_underscores_0          0\n",
       "url_num_underscores_1          0\n",
       "dtype: int64"
      ]
     },
     "execution_count": 266,
     "metadata": {},
     "output_type": "execute_result"
    }
   ],
   "source": [
    "test.isnull().sum()"
   ]
  },
  {
   "cell_type": "code",
   "execution_count": 267,
   "id": "d4b3b7a1",
   "metadata": {
    "scrolled": true
   },
   "outputs": [
    {
     "data": {
      "text/plain": [
       "0       17.0\n",
       "1       15.0\n",
       "2       20.0\n",
       "3       26.0\n",
       "4       26.0\n",
       "        ... \n",
       "2436    17.0\n",
       "2437    35.0\n",
       "2438    22.0\n",
       "2439    14.0\n",
       "2440    22.0\n",
       "Name: url_domain_len, Length: 2441, dtype: float64"
      ]
     },
     "execution_count": 267,
     "metadata": {},
     "output_type": "execute_result"
    }
   ],
   "source": [
    "test.url_domain_len"
   ]
  },
  {
   "cell_type": "code",
   "execution_count": 268,
   "id": "f6b4feaa",
   "metadata": {},
   "outputs": [],
   "source": [
    "from sklearn.preprocessing import LabelEncoder\n",
    "from sklearn.model_selection import train_test_split, GridSearchCV, RandomizedSearchCV, StratifiedKFold\n",
    "from sklearn.model_selection import StratifiedShuffleSplit\n",
    "from sklearn.metrics import accuracy_score, log_loss\n",
    "from sklearn.neighbors import KNeighborsClassifier\n",
    "from sklearn.svm import SVC\n",
    "from sklearn.tree import DecisionTreeClassifier\n",
    "from sklearn.ensemble import RandomForestClassifier, AdaBoostClassifier, GradientBoostingClassifier\n",
    "from sklearn.naive_bayes import GaussianNB\n",
    "from sklearn.discriminant_analysis import LinearDiscriminantAnalysis, QuadraticDiscriminantAnalysis\n",
    "from sklearn.linear_model import LogisticRegression\n",
    "from lightgbm import LGBMClassifier\n",
    "from catboost import CatBoostClassifier"
   ]
  },
  {
   "cell_type": "code",
   "execution_count": 269,
   "id": "928478bd",
   "metadata": {
    "scrolled": false
   },
   "outputs": [
    {
     "data": {
      "text/html": [
       "<div>\n",
       "<style scoped>\n",
       "    .dataframe tbody tr th:only-of-type {\n",
       "        vertical-align: middle;\n",
       "    }\n",
       "\n",
       "    .dataframe tbody tr th {\n",
       "        vertical-align: top;\n",
       "    }\n",
       "\n",
       "    .dataframe thead th {\n",
       "        text-align: right;\n",
       "    }\n",
       "</style>\n",
       "<table border=\"1\" class=\"dataframe\">\n",
       "  <thead>\n",
       "    <tr style=\"text-align: right;\">\n",
       "      <th></th>\n",
       "      <th>url_path_len</th>\n",
       "      <th>url_domain_len</th>\n",
       "      <th>url_hostname_len</th>\n",
       "      <th>url_query_len</th>\n",
       "      <th>url_entropy</th>\n",
       "      <th>html_num_tags('script')</th>\n",
       "      <th>html_num_tags('body')</th>\n",
       "      <th>html_num_tags('form')</th>\n",
       "      <th>html_num_tags('a')</th>\n",
       "      <th>html_num_tags('object')_0</th>\n",
       "      <th>html_num_tags('object')_1</th>\n",
       "      <th>html_num_tags('embed')_0</th>\n",
       "      <th>html_num_tags('embed')_1</th>\n",
       "      <th>url_num_query_para_0</th>\n",
       "      <th>url_num_query_para_1</th>\n",
       "      <th>url_num_hyphens_dom_0</th>\n",
       "      <th>url_num_hyphens_dom_1</th>\n",
       "      <th>url_num_underscores_0</th>\n",
       "      <th>url_num_underscores_1</th>\n",
       "    </tr>\n",
       "  </thead>\n",
       "  <tbody>\n",
       "    <tr>\n",
       "      <th>0</th>\n",
       "      <td>80.0</td>\n",
       "      <td>17.0</td>\n",
       "      <td>17.0</td>\n",
       "      <td>0</td>\n",
       "      <td>4.844913</td>\n",
       "      <td>5.0</td>\n",
       "      <td>1</td>\n",
       "      <td>1.0</td>\n",
       "      <td>3.0</td>\n",
       "      <td>1</td>\n",
       "      <td>0</td>\n",
       "      <td>1</td>\n",
       "      <td>0</td>\n",
       "      <td>1</td>\n",
       "      <td>0</td>\n",
       "      <td>1</td>\n",
       "      <td>0</td>\n",
       "      <td>1</td>\n",
       "      <td>0</td>\n",
       "    </tr>\n",
       "    <tr>\n",
       "      <th>1</th>\n",
       "      <td>22.0</td>\n",
       "      <td>15.0</td>\n",
       "      <td>15.0</td>\n",
       "      <td>0</td>\n",
       "      <td>4.246157</td>\n",
       "      <td>NaN</td>\n",
       "      <td>1</td>\n",
       "      <td>NaN</td>\n",
       "      <td>NaN</td>\n",
       "      <td>1</td>\n",
       "      <td>0</td>\n",
       "      <td>1</td>\n",
       "      <td>0</td>\n",
       "      <td>1</td>\n",
       "      <td>0</td>\n",
       "      <td>1</td>\n",
       "      <td>0</td>\n",
       "      <td>0</td>\n",
       "      <td>1</td>\n",
       "    </tr>\n",
       "    <tr>\n",
       "      <th>2</th>\n",
       "      <td>24.0</td>\n",
       "      <td>20.0</td>\n",
       "      <td>20.0</td>\n",
       "      <td>0</td>\n",
       "      <td>4.612835</td>\n",
       "      <td>6.0</td>\n",
       "      <td>1</td>\n",
       "      <td>0.0</td>\n",
       "      <td>136.0</td>\n",
       "      <td>0</td>\n",
       "      <td>1</td>\n",
       "      <td>0</td>\n",
       "      <td>1</td>\n",
       "      <td>1</td>\n",
       "      <td>0</td>\n",
       "      <td>1</td>\n",
       "      <td>0</td>\n",
       "      <td>0</td>\n",
       "      <td>1</td>\n",
       "    </tr>\n",
       "    <tr>\n",
       "      <th>3</th>\n",
       "      <td>14.0</td>\n",
       "      <td>26.0</td>\n",
       "      <td>26.0</td>\n",
       "      <td>0</td>\n",
       "      <td>4.238521</td>\n",
       "      <td>NaN</td>\n",
       "      <td>1</td>\n",
       "      <td>1.0</td>\n",
       "      <td>2.0</td>\n",
       "      <td>1</td>\n",
       "      <td>0</td>\n",
       "      <td>1</td>\n",
       "      <td>0</td>\n",
       "      <td>1</td>\n",
       "      <td>0</td>\n",
       "      <td>1</td>\n",
       "      <td>0</td>\n",
       "      <td>1</td>\n",
       "      <td>0</td>\n",
       "    </tr>\n",
       "    <tr>\n",
       "      <th>4</th>\n",
       "      <td>17.0</td>\n",
       "      <td>26.0</td>\n",
       "      <td>26.0</td>\n",
       "      <td>0</td>\n",
       "      <td>4.240669</td>\n",
       "      <td>NaN</td>\n",
       "      <td>1</td>\n",
       "      <td>NaN</td>\n",
       "      <td>NaN</td>\n",
       "      <td>1</td>\n",
       "      <td>0</td>\n",
       "      <td>1</td>\n",
       "      <td>0</td>\n",
       "      <td>1</td>\n",
       "      <td>0</td>\n",
       "      <td>0</td>\n",
       "      <td>1</td>\n",
       "      <td>1</td>\n",
       "      <td>0</td>\n",
       "    </tr>\n",
       "  </tbody>\n",
       "</table>\n",
       "</div>"
      ],
      "text/plain": [
       "   url_path_len  url_domain_len  url_hostname_len  url_query_len  url_entropy  \\\n",
       "0          80.0            17.0              17.0              0     4.844913   \n",
       "1          22.0            15.0              15.0              0     4.246157   \n",
       "2          24.0            20.0              20.0              0     4.612835   \n",
       "3          14.0            26.0              26.0              0     4.238521   \n",
       "4          17.0            26.0              26.0              0     4.240669   \n",
       "\n",
       "   html_num_tags('script')  html_num_tags('body')  html_num_tags('form')  \\\n",
       "0                      5.0                      1                    1.0   \n",
       "1                      NaN                      1                    NaN   \n",
       "2                      6.0                      1                    0.0   \n",
       "3                      NaN                      1                    1.0   \n",
       "4                      NaN                      1                    NaN   \n",
       "\n",
       "   html_num_tags('a')  html_num_tags('object')_0  html_num_tags('object')_1  \\\n",
       "0                 3.0                          1                          0   \n",
       "1                 NaN                          1                          0   \n",
       "2               136.0                          0                          1   \n",
       "3                 2.0                          1                          0   \n",
       "4                 NaN                          1                          0   \n",
       "\n",
       "   html_num_tags('embed')_0  html_num_tags('embed')_1  url_num_query_para_0  \\\n",
       "0                         1                         0                     1   \n",
       "1                         1                         0                     1   \n",
       "2                         0                         1                     1   \n",
       "3                         1                         0                     1   \n",
       "4                         1                         0                     1   \n",
       "\n",
       "   url_num_query_para_1  url_num_hyphens_dom_0  url_num_hyphens_dom_1  \\\n",
       "0                     0                      1                      0   \n",
       "1                     0                      1                      0   \n",
       "2                     0                      1                      0   \n",
       "3                     0                      1                      0   \n",
       "4                     0                      0                      1   \n",
       "\n",
       "   url_num_underscores_0  url_num_underscores_1  \n",
       "0                      1                      0  \n",
       "1                      0                      1  \n",
       "2                      0                      1  \n",
       "3                      1                      0  \n",
       "4                      1                      0  "
      ]
     },
     "execution_count": 269,
     "metadata": {},
     "output_type": "execute_result"
    }
   ],
   "source": [
    "test.head()"
   ]
  },
  {
   "cell_type": "markdown",
   "id": "2721b2a9",
   "metadata": {},
   "source": [
    "## 결측치 처리"
   ]
  },
  {
   "cell_type": "markdown",
   "id": "c8a76f09",
   "metadata": {},
   "source": [
    "결측치 처리 리스트 \n",
    "\n",
    "url_path_len,         \n",
    "url_hostname_len,             \n",
    "html_num_tags('script'),            \n",
    "html_num_tags('form'),                \n",
    "html_num_tags('a')"
   ]
  },
  {
   "cell_type": "code",
   "execution_count": 270,
   "id": "b32cbf89",
   "metadata": {},
   "outputs": [
    {
     "data": {
      "text/html": [
       "<div>\n",
       "<style scoped>\n",
       "    .dataframe tbody tr th:only-of-type {\n",
       "        vertical-align: middle;\n",
       "    }\n",
       "\n",
       "    .dataframe tbody tr th {\n",
       "        vertical-align: top;\n",
       "    }\n",
       "\n",
       "    .dataframe thead th {\n",
       "        text-align: right;\n",
       "    }\n",
       "</style>\n",
       "<table border=\"1\" class=\"dataframe\">\n",
       "  <thead>\n",
       "    <tr style=\"text-align: right;\">\n",
       "      <th></th>\n",
       "      <th>url_path_len</th>\n",
       "      <th>url_domain_len</th>\n",
       "      <th>url_hostname_len</th>\n",
       "      <th>url_query_len</th>\n",
       "      <th>url_entropy</th>\n",
       "      <th>html_num_tags('script')</th>\n",
       "      <th>html_num_tags('body')</th>\n",
       "      <th>html_num_tags('form')</th>\n",
       "      <th>html_num_tags('a')</th>\n",
       "      <th>label</th>\n",
       "      <th>...</th>\n",
       "      <th>html_num_tags('object')_0</th>\n",
       "      <th>html_num_tags('object')_1</th>\n",
       "      <th>html_num_tags('embed')_0</th>\n",
       "      <th>html_num_tags('embed')_1</th>\n",
       "      <th>url_num_query_para_0</th>\n",
       "      <th>url_num_query_para_1</th>\n",
       "      <th>url_num_hyphens_dom_0</th>\n",
       "      <th>url_num_hyphens_dom_1</th>\n",
       "      <th>url_num_underscores_0</th>\n",
       "      <th>url_num_underscores_1</th>\n",
       "    </tr>\n",
       "  </thead>\n",
       "  <tbody>\n",
       "    <tr>\n",
       "      <th>0</th>\n",
       "      <td>8.0</td>\n",
       "      <td>15.0</td>\n",
       "      <td>15.0</td>\n",
       "      <td>0.0</td>\n",
       "      <td>4.260333</td>\n",
       "      <td>7.0</td>\n",
       "      <td>1.0</td>\n",
       "      <td>0.0</td>\n",
       "      <td>0.0</td>\n",
       "      <td>malicious</td>\n",
       "      <td>...</td>\n",
       "      <td>1</td>\n",
       "      <td>0</td>\n",
       "      <td>1</td>\n",
       "      <td>0</td>\n",
       "      <td>1</td>\n",
       "      <td>0</td>\n",
       "      <td>1</td>\n",
       "      <td>0</td>\n",
       "      <td>1</td>\n",
       "      <td>0</td>\n",
       "    </tr>\n",
       "    <tr>\n",
       "      <th>1</th>\n",
       "      <td>58.0</td>\n",
       "      <td>17.0</td>\n",
       "      <td>17.0</td>\n",
       "      <td>0.0</td>\n",
       "      <td>4.636107</td>\n",
       "      <td>18.0</td>\n",
       "      <td>1.0</td>\n",
       "      <td>0.0</td>\n",
       "      <td>21.0</td>\n",
       "      <td>benign</td>\n",
       "      <td>...</td>\n",
       "      <td>1</td>\n",
       "      <td>0</td>\n",
       "      <td>1</td>\n",
       "      <td>0</td>\n",
       "      <td>1</td>\n",
       "      <td>0</td>\n",
       "      <td>1</td>\n",
       "      <td>0</td>\n",
       "      <td>1</td>\n",
       "      <td>0</td>\n",
       "    </tr>\n",
       "    <tr>\n",
       "      <th>2</th>\n",
       "      <td>4.0</td>\n",
       "      <td>16.0</td>\n",
       "      <td>16.0</td>\n",
       "      <td>0.0</td>\n",
       "      <td>3.708966</td>\n",
       "      <td>33.0</td>\n",
       "      <td>1.0</td>\n",
       "      <td>3.0</td>\n",
       "      <td>70.0</td>\n",
       "      <td>benign</td>\n",
       "      <td>...</td>\n",
       "      <td>1</td>\n",
       "      <td>0</td>\n",
       "      <td>1</td>\n",
       "      <td>0</td>\n",
       "      <td>1</td>\n",
       "      <td>0</td>\n",
       "      <td>1</td>\n",
       "      <td>0</td>\n",
       "      <td>1</td>\n",
       "      <td>0</td>\n",
       "    </tr>\n",
       "    <tr>\n",
       "      <th>3</th>\n",
       "      <td>13.0</td>\n",
       "      <td>14.0</td>\n",
       "      <td>14.0</td>\n",
       "      <td>0.0</td>\n",
       "      <td>4.025592</td>\n",
       "      <td>15.0</td>\n",
       "      <td>1.0</td>\n",
       "      <td>1.0</td>\n",
       "      <td>55.0</td>\n",
       "      <td>benign</td>\n",
       "      <td>...</td>\n",
       "      <td>1</td>\n",
       "      <td>0</td>\n",
       "      <td>1</td>\n",
       "      <td>0</td>\n",
       "      <td>1</td>\n",
       "      <td>0</td>\n",
       "      <td>1</td>\n",
       "      <td>0</td>\n",
       "      <td>1</td>\n",
       "      <td>0</td>\n",
       "    </tr>\n",
       "    <tr>\n",
       "      <th>4</th>\n",
       "      <td>12.0</td>\n",
       "      <td>27.0</td>\n",
       "      <td>27.0</td>\n",
       "      <td>0.0</td>\n",
       "      <td>4.631833</td>\n",
       "      <td>10.0</td>\n",
       "      <td>1.0</td>\n",
       "      <td>0.0</td>\n",
       "      <td>321.0</td>\n",
       "      <td>benign</td>\n",
       "      <td>...</td>\n",
       "      <td>1</td>\n",
       "      <td>0</td>\n",
       "      <td>1</td>\n",
       "      <td>0</td>\n",
       "      <td>1</td>\n",
       "      <td>0</td>\n",
       "      <td>0</td>\n",
       "      <td>1</td>\n",
       "      <td>1</td>\n",
       "      <td>0</td>\n",
       "    </tr>\n",
       "    <tr>\n",
       "      <th>...</th>\n",
       "      <td>...</td>\n",
       "      <td>...</td>\n",
       "      <td>...</td>\n",
       "      <td>...</td>\n",
       "      <td>...</td>\n",
       "      <td>...</td>\n",
       "      <td>...</td>\n",
       "      <td>...</td>\n",
       "      <td>...</td>\n",
       "      <td>...</td>\n",
       "      <td>...</td>\n",
       "      <td>...</td>\n",
       "      <td>...</td>\n",
       "      <td>...</td>\n",
       "      <td>...</td>\n",
       "      <td>...</td>\n",
       "      <td>...</td>\n",
       "      <td>...</td>\n",
       "      <td>...</td>\n",
       "      <td>...</td>\n",
       "      <td>...</td>\n",
       "    </tr>\n",
       "    <tr>\n",
       "      <th>3659</th>\n",
       "      <td>16.0</td>\n",
       "      <td>52.0</td>\n",
       "      <td>52.0</td>\n",
       "      <td>0.0</td>\n",
       "      <td>4.135356</td>\n",
       "      <td>0.0</td>\n",
       "      <td>1.0</td>\n",
       "      <td>0.0</td>\n",
       "      <td>3.0</td>\n",
       "      <td>malicious</td>\n",
       "      <td>...</td>\n",
       "      <td>1</td>\n",
       "      <td>0</td>\n",
       "      <td>1</td>\n",
       "      <td>0</td>\n",
       "      <td>1</td>\n",
       "      <td>0</td>\n",
       "      <td>0</td>\n",
       "      <td>1</td>\n",
       "      <td>1</td>\n",
       "      <td>0</td>\n",
       "    </tr>\n",
       "    <tr>\n",
       "      <th>3660</th>\n",
       "      <td>48.0</td>\n",
       "      <td>18.0</td>\n",
       "      <td>18.0</td>\n",
       "      <td>0.0</td>\n",
       "      <td>4.362331</td>\n",
       "      <td>14.0</td>\n",
       "      <td>1.0</td>\n",
       "      <td>3.0</td>\n",
       "      <td>475.0</td>\n",
       "      <td>benign</td>\n",
       "      <td>...</td>\n",
       "      <td>1</td>\n",
       "      <td>0</td>\n",
       "      <td>1</td>\n",
       "      <td>0</td>\n",
       "      <td>1</td>\n",
       "      <td>0</td>\n",
       "      <td>1</td>\n",
       "      <td>0</td>\n",
       "      <td>1</td>\n",
       "      <td>0</td>\n",
       "    </tr>\n",
       "    <tr>\n",
       "      <th>3661</th>\n",
       "      <td>64.0</td>\n",
       "      <td>26.0</td>\n",
       "      <td>26.0</td>\n",
       "      <td>0.0</td>\n",
       "      <td>4.693343</td>\n",
       "      <td>13.0</td>\n",
       "      <td>1.0</td>\n",
       "      <td>2.0</td>\n",
       "      <td>103.0</td>\n",
       "      <td>malicious</td>\n",
       "      <td>...</td>\n",
       "      <td>1</td>\n",
       "      <td>0</td>\n",
       "      <td>1</td>\n",
       "      <td>0</td>\n",
       "      <td>1</td>\n",
       "      <td>0</td>\n",
       "      <td>0</td>\n",
       "      <td>1</td>\n",
       "      <td>1</td>\n",
       "      <td>0</td>\n",
       "    </tr>\n",
       "    <tr>\n",
       "      <th>3662</th>\n",
       "      <td>33.0</td>\n",
       "      <td>13.0</td>\n",
       "      <td>13.0</td>\n",
       "      <td>0.0</td>\n",
       "      <td>4.604166</td>\n",
       "      <td>0.0</td>\n",
       "      <td>1.0</td>\n",
       "      <td>0.0</td>\n",
       "      <td>3.0</td>\n",
       "      <td>benign</td>\n",
       "      <td>...</td>\n",
       "      <td>1</td>\n",
       "      <td>0</td>\n",
       "      <td>1</td>\n",
       "      <td>0</td>\n",
       "      <td>1</td>\n",
       "      <td>0</td>\n",
       "      <td>1</td>\n",
       "      <td>0</td>\n",
       "      <td>1</td>\n",
       "      <td>0</td>\n",
       "    </tr>\n",
       "    <tr>\n",
       "      <th>3663</th>\n",
       "      <td>0.0</td>\n",
       "      <td>18.0</td>\n",
       "      <td>18.0</td>\n",
       "      <td>0.0</td>\n",
       "      <td>3.619471</td>\n",
       "      <td>3.0</td>\n",
       "      <td>1.0</td>\n",
       "      <td>2.0</td>\n",
       "      <td>46.0</td>\n",
       "      <td>benign</td>\n",
       "      <td>...</td>\n",
       "      <td>1</td>\n",
       "      <td>0</td>\n",
       "      <td>1</td>\n",
       "      <td>0</td>\n",
       "      <td>1</td>\n",
       "      <td>0</td>\n",
       "      <td>1</td>\n",
       "      <td>0</td>\n",
       "      <td>1</td>\n",
       "      <td>0</td>\n",
       "    </tr>\n",
       "  </tbody>\n",
       "</table>\n",
       "<p>3662 rows × 21 columns</p>\n",
       "</div>"
      ],
      "text/plain": [
       "      url_path_len  url_domain_len  url_hostname_len  url_query_len  \\\n",
       "0              8.0            15.0              15.0            0.0   \n",
       "1             58.0            17.0              17.0            0.0   \n",
       "2              4.0            16.0              16.0            0.0   \n",
       "3             13.0            14.0              14.0            0.0   \n",
       "4             12.0            27.0              27.0            0.0   \n",
       "...            ...             ...               ...            ...   \n",
       "3659          16.0            52.0              52.0            0.0   \n",
       "3660          48.0            18.0              18.0            0.0   \n",
       "3661          64.0            26.0              26.0            0.0   \n",
       "3662          33.0            13.0              13.0            0.0   \n",
       "3663           0.0            18.0              18.0            0.0   \n",
       "\n",
       "      url_entropy  html_num_tags('script')  html_num_tags('body')  \\\n",
       "0        4.260333                      7.0                    1.0   \n",
       "1        4.636107                     18.0                    1.0   \n",
       "2        3.708966                     33.0                    1.0   \n",
       "3        4.025592                     15.0                    1.0   \n",
       "4        4.631833                     10.0                    1.0   \n",
       "...           ...                      ...                    ...   \n",
       "3659     4.135356                      0.0                    1.0   \n",
       "3660     4.362331                     14.0                    1.0   \n",
       "3661     4.693343                     13.0                    1.0   \n",
       "3662     4.604166                      0.0                    1.0   \n",
       "3663     3.619471                      3.0                    1.0   \n",
       "\n",
       "      html_num_tags('form')  html_num_tags('a')      label  ...  \\\n",
       "0                       0.0                 0.0  malicious  ...   \n",
       "1                       0.0                21.0     benign  ...   \n",
       "2                       3.0                70.0     benign  ...   \n",
       "3                       1.0                55.0     benign  ...   \n",
       "4                       0.0               321.0     benign  ...   \n",
       "...                     ...                 ...        ...  ...   \n",
       "3659                    0.0                 3.0  malicious  ...   \n",
       "3660                    3.0               475.0     benign  ...   \n",
       "3661                    2.0               103.0  malicious  ...   \n",
       "3662                    0.0                 3.0     benign  ...   \n",
       "3663                    2.0                46.0     benign  ...   \n",
       "\n",
       "      html_num_tags('object')_0  html_num_tags('object')_1  \\\n",
       "0                             1                          0   \n",
       "1                             1                          0   \n",
       "2                             1                          0   \n",
       "3                             1                          0   \n",
       "4                             1                          0   \n",
       "...                         ...                        ...   \n",
       "3659                          1                          0   \n",
       "3660                          1                          0   \n",
       "3661                          1                          0   \n",
       "3662                          1                          0   \n",
       "3663                          1                          0   \n",
       "\n",
       "      html_num_tags('embed')_0  html_num_tags('embed')_1  \\\n",
       "0                            1                         0   \n",
       "1                            1                         0   \n",
       "2                            1                         0   \n",
       "3                            1                         0   \n",
       "4                            1                         0   \n",
       "...                        ...                       ...   \n",
       "3659                         1                         0   \n",
       "3660                         1                         0   \n",
       "3661                         1                         0   \n",
       "3662                         1                         0   \n",
       "3663                         1                         0   \n",
       "\n",
       "      url_num_query_para_0  url_num_query_para_1  url_num_hyphens_dom_0  \\\n",
       "0                        1                     0                      1   \n",
       "1                        1                     0                      1   \n",
       "2                        1                     0                      1   \n",
       "3                        1                     0                      1   \n",
       "4                        1                     0                      0   \n",
       "...                    ...                   ...                    ...   \n",
       "3659                     1                     0                      0   \n",
       "3660                     1                     0                      1   \n",
       "3661                     1                     0                      0   \n",
       "3662                     1                     0                      1   \n",
       "3663                     1                     0                      1   \n",
       "\n",
       "      url_num_hyphens_dom_1  url_num_underscores_0  url_num_underscores_1  \n",
       "0                         0                      1                      0  \n",
       "1                         0                      1                      0  \n",
       "2                         0                      1                      0  \n",
       "3                         0                      1                      0  \n",
       "4                         1                      1                      0  \n",
       "...                     ...                    ...                    ...  \n",
       "3659                      1                      1                      0  \n",
       "3660                      0                      1                      0  \n",
       "3661                      1                      1                      0  \n",
       "3662                      0                      1                      0  \n",
       "3663                      0                      1                      0  \n",
       "\n",
       "[3662 rows x 21 columns]"
      ]
     },
     "execution_count": 270,
     "metadata": {},
     "output_type": "execute_result"
    }
   ],
   "source": [
    "train"
   ]
  },
  {
   "cell_type": "code",
   "execution_count": 271,
   "id": "c9b59d67",
   "metadata": {},
   "outputs": [],
   "source": [
    "from sklearn.impute import KNNImputer\n",
    "\n",
    "imputer = KNNImputer(n_neighbors=3)\n",
    "imputed= imputer.fit_transform(train[Features_])"
   ]
  },
  {
   "cell_type": "code",
   "execution_count": 272,
   "id": "b88d6780",
   "metadata": {},
   "outputs": [],
   "source": [
    "temp_train = pd.DataFrame(imputed, columns=train[Features_].columns)"
   ]
  },
  {
   "cell_type": "code",
   "execution_count": 273,
   "id": "b1949975",
   "metadata": {},
   "outputs": [],
   "source": [
    "test_copy = test.copy()\n",
    "#train_drop = train.drop('ProdTaken', axis=1)\n",
    "imputer.fit(temp_train)   # 여기서도 data leakage에 조심하자\n",
    "test = imputer.transform(test)\n",
    "\n",
    "test = pd.DataFrame(test, columns=test_copy.columns)"
   ]
  },
  {
   "cell_type": "code",
   "execution_count": 274,
   "id": "b5fe5021",
   "metadata": {},
   "outputs": [
    {
     "data": {
      "text/html": [
       "<div>\n",
       "<style scoped>\n",
       "    .dataframe tbody tr th:only-of-type {\n",
       "        vertical-align: middle;\n",
       "    }\n",
       "\n",
       "    .dataframe tbody tr th {\n",
       "        vertical-align: top;\n",
       "    }\n",
       "\n",
       "    .dataframe thead th {\n",
       "        text-align: right;\n",
       "    }\n",
       "</style>\n",
       "<table border=\"1\" class=\"dataframe\">\n",
       "  <thead>\n",
       "    <tr style=\"text-align: right;\">\n",
       "      <th></th>\n",
       "      <th>url_path_len</th>\n",
       "      <th>url_domain_len</th>\n",
       "      <th>url_hostname_len</th>\n",
       "      <th>url_query_len</th>\n",
       "      <th>url_entropy</th>\n",
       "      <th>html_num_tags('script')</th>\n",
       "      <th>html_num_tags('body')</th>\n",
       "      <th>html_num_tags('form')</th>\n",
       "      <th>html_num_tags('a')</th>\n",
       "      <th>html_num_tags('object')_0</th>\n",
       "      <th>html_num_tags('object')_1</th>\n",
       "      <th>html_num_tags('embed')_0</th>\n",
       "      <th>html_num_tags('embed')_1</th>\n",
       "      <th>url_num_query_para_0</th>\n",
       "      <th>url_num_query_para_1</th>\n",
       "      <th>url_num_hyphens_dom_0</th>\n",
       "      <th>url_num_hyphens_dom_1</th>\n",
       "      <th>url_num_underscores_0</th>\n",
       "      <th>url_num_underscores_1</th>\n",
       "    </tr>\n",
       "  </thead>\n",
       "  <tbody>\n",
       "    <tr>\n",
       "      <th>0</th>\n",
       "      <td>80.0</td>\n",
       "      <td>17.0</td>\n",
       "      <td>17.0</td>\n",
       "      <td>0.0</td>\n",
       "      <td>4.844913</td>\n",
       "      <td>5.000000</td>\n",
       "      <td>1.0</td>\n",
       "      <td>1.000000</td>\n",
       "      <td>3.000000</td>\n",
       "      <td>1.0</td>\n",
       "      <td>0.0</td>\n",
       "      <td>1.0</td>\n",
       "      <td>0.0</td>\n",
       "      <td>1.0</td>\n",
       "      <td>0.0</td>\n",
       "      <td>1.0</td>\n",
       "      <td>0.0</td>\n",
       "      <td>1.0</td>\n",
       "      <td>0.0</td>\n",
       "    </tr>\n",
       "    <tr>\n",
       "      <th>1</th>\n",
       "      <td>22.0</td>\n",
       "      <td>15.0</td>\n",
       "      <td>15.0</td>\n",
       "      <td>0.0</td>\n",
       "      <td>4.246157</td>\n",
       "      <td>29.000000</td>\n",
       "      <td>1.0</td>\n",
       "      <td>1.333333</td>\n",
       "      <td>268.666667</td>\n",
       "      <td>1.0</td>\n",
       "      <td>0.0</td>\n",
       "      <td>1.0</td>\n",
       "      <td>0.0</td>\n",
       "      <td>1.0</td>\n",
       "      <td>0.0</td>\n",
       "      <td>1.0</td>\n",
       "      <td>0.0</td>\n",
       "      <td>0.0</td>\n",
       "      <td>1.0</td>\n",
       "    </tr>\n",
       "    <tr>\n",
       "      <th>2</th>\n",
       "      <td>24.0</td>\n",
       "      <td>20.0</td>\n",
       "      <td>20.0</td>\n",
       "      <td>0.0</td>\n",
       "      <td>4.612835</td>\n",
       "      <td>6.000000</td>\n",
       "      <td>1.0</td>\n",
       "      <td>0.000000</td>\n",
       "      <td>136.000000</td>\n",
       "      <td>0.0</td>\n",
       "      <td>1.0</td>\n",
       "      <td>0.0</td>\n",
       "      <td>1.0</td>\n",
       "      <td>1.0</td>\n",
       "      <td>0.0</td>\n",
       "      <td>1.0</td>\n",
       "      <td>0.0</td>\n",
       "      <td>0.0</td>\n",
       "      <td>1.0</td>\n",
       "    </tr>\n",
       "    <tr>\n",
       "      <th>3</th>\n",
       "      <td>14.0</td>\n",
       "      <td>26.0</td>\n",
       "      <td>26.0</td>\n",
       "      <td>0.0</td>\n",
       "      <td>4.238521</td>\n",
       "      <td>4.333333</td>\n",
       "      <td>1.0</td>\n",
       "      <td>1.000000</td>\n",
       "      <td>2.000000</td>\n",
       "      <td>1.0</td>\n",
       "      <td>0.0</td>\n",
       "      <td>1.0</td>\n",
       "      <td>0.0</td>\n",
       "      <td>1.0</td>\n",
       "      <td>0.0</td>\n",
       "      <td>1.0</td>\n",
       "      <td>0.0</td>\n",
       "      <td>1.0</td>\n",
       "      <td>0.0</td>\n",
       "    </tr>\n",
       "    <tr>\n",
       "      <th>4</th>\n",
       "      <td>17.0</td>\n",
       "      <td>26.0</td>\n",
       "      <td>26.0</td>\n",
       "      <td>0.0</td>\n",
       "      <td>4.240669</td>\n",
       "      <td>2.000000</td>\n",
       "      <td>1.0</td>\n",
       "      <td>1.000000</td>\n",
       "      <td>16.000000</td>\n",
       "      <td>1.0</td>\n",
       "      <td>0.0</td>\n",
       "      <td>1.0</td>\n",
       "      <td>0.0</td>\n",
       "      <td>1.0</td>\n",
       "      <td>0.0</td>\n",
       "      <td>0.0</td>\n",
       "      <td>1.0</td>\n",
       "      <td>1.0</td>\n",
       "      <td>0.0</td>\n",
       "    </tr>\n",
       "  </tbody>\n",
       "</table>\n",
       "</div>"
      ],
      "text/plain": [
       "   url_path_len  url_domain_len  url_hostname_len  url_query_len  url_entropy  \\\n",
       "0          80.0            17.0              17.0            0.0     4.844913   \n",
       "1          22.0            15.0              15.0            0.0     4.246157   \n",
       "2          24.0            20.0              20.0            0.0     4.612835   \n",
       "3          14.0            26.0              26.0            0.0     4.238521   \n",
       "4          17.0            26.0              26.0            0.0     4.240669   \n",
       "\n",
       "   html_num_tags('script')  html_num_tags('body')  html_num_tags('form')  \\\n",
       "0                 5.000000                    1.0               1.000000   \n",
       "1                29.000000                    1.0               1.333333   \n",
       "2                 6.000000                    1.0               0.000000   \n",
       "3                 4.333333                    1.0               1.000000   \n",
       "4                 2.000000                    1.0               1.000000   \n",
       "\n",
       "   html_num_tags('a')  html_num_tags('object')_0  html_num_tags('object')_1  \\\n",
       "0            3.000000                        1.0                        0.0   \n",
       "1          268.666667                        1.0                        0.0   \n",
       "2          136.000000                        0.0                        1.0   \n",
       "3            2.000000                        1.0                        0.0   \n",
       "4           16.000000                        1.0                        0.0   \n",
       "\n",
       "   html_num_tags('embed')_0  html_num_tags('embed')_1  url_num_query_para_0  \\\n",
       "0                       1.0                       0.0                   1.0   \n",
       "1                       1.0                       0.0                   1.0   \n",
       "2                       0.0                       1.0                   1.0   \n",
       "3                       1.0                       0.0                   1.0   \n",
       "4                       1.0                       0.0                   1.0   \n",
       "\n",
       "   url_num_query_para_1  url_num_hyphens_dom_0  url_num_hyphens_dom_1  \\\n",
       "0                   0.0                    1.0                    0.0   \n",
       "1                   0.0                    1.0                    0.0   \n",
       "2                   0.0                    1.0                    0.0   \n",
       "3                   0.0                    1.0                    0.0   \n",
       "4                   0.0                    0.0                    1.0   \n",
       "\n",
       "   url_num_underscores_0  url_num_underscores_1  \n",
       "0                    1.0                    0.0  \n",
       "1                    0.0                    1.0  \n",
       "2                    0.0                    1.0  \n",
       "3                    1.0                    0.0  \n",
       "4                    1.0                    0.0  "
      ]
     },
     "execution_count": 274,
     "metadata": {},
     "output_type": "execute_result"
    }
   ],
   "source": [
    "test.head()"
   ]
  },
  {
   "cell_type": "code",
   "execution_count": 275,
   "id": "b1bd040e",
   "metadata": {
    "scrolled": true
   },
   "outputs": [
    {
     "data": {
      "text/plain": [
       "url_path_len                 0\n",
       "url_domain_len               0\n",
       "url_hostname_len             0\n",
       "url_query_len                0\n",
       "url_entropy                  0\n",
       "html_num_tags('script')      0\n",
       "html_num_tags('body')        0\n",
       "html_num_tags('form')        0\n",
       "html_num_tags('a')           0\n",
       "html_num_tags('object')_0    0\n",
       "html_num_tags('object')_1    0\n",
       "html_num_tags('embed')_0     0\n",
       "html_num_tags('embed')_1     0\n",
       "url_num_query_para_0         0\n",
       "url_num_query_para_1         0\n",
       "url_num_hyphens_dom_0        0\n",
       "url_num_hyphens_dom_1        0\n",
       "url_num_underscores_0        0\n",
       "url_num_underscores_1        0\n",
       "dtype: int64"
      ]
     },
     "execution_count": 275,
     "metadata": {},
     "output_type": "execute_result"
    }
   ],
   "source": [
    "test.isnull().sum()"
   ]
  },
  {
   "cell_type": "code",
   "execution_count": null,
   "id": "ec0b119c",
   "metadata": {},
   "outputs": [],
   "source": []
  },
  {
   "cell_type": "markdown",
   "id": "4669891b",
   "metadata": {},
   "source": [
    "## 모델링"
   ]
  },
  {
   "cell_type": "code",
   "execution_count": 94,
   "id": "14efb074",
   "metadata": {},
   "outputs": [
    {
     "name": "stdout",
     "output_type": "stream",
     "text": [
      "Collecting catboost\n",
      "  Downloading catboost-1.1.1-cp39-none-win_amd64.whl (74.0 MB)\n",
      "     --------------------------------------- 74.0/74.0 MB 23.4 MB/s eta 0:00:00\n",
      "Collecting graphviz\n",
      "  Downloading graphviz-0.20.1-py3-none-any.whl (47 kB)\n",
      "     ---------------------------------------- 47.0/47.0 kB ? eta 0:00:00\n",
      "Requirement already satisfied: numpy>=1.16.0 in c:\\users\\user\\anaconda3\\lib\\site-packages (from catboost) (1.21.5)\n",
      "Requirement already satisfied: matplotlib in c:\\users\\user\\anaconda3\\lib\\site-packages (from catboost) (3.5.2)\n",
      "Requirement already satisfied: pandas>=0.24.0 in c:\\users\\user\\anaconda3\\lib\\site-packages (from catboost) (1.4.4)\n",
      "Requirement already satisfied: six in c:\\users\\user\\anaconda3\\lib\\site-packages (from catboost) (1.16.0)\n",
      "Requirement already satisfied: plotly in c:\\users\\user\\anaconda3\\lib\\site-packages (from catboost) (5.9.0)\n",
      "Requirement already satisfied: scipy in c:\\users\\user\\anaconda3\\lib\\site-packages (from catboost) (1.9.1)\n",
      "Requirement already satisfied: python-dateutil>=2.8.1 in c:\\users\\user\\anaconda3\\lib\\site-packages (from pandas>=0.24.0->catboost) (2.8.2)\n",
      "Requirement already satisfied: pytz>=2020.1 in c:\\users\\user\\anaconda3\\lib\\site-packages (from pandas>=0.24.0->catboost) (2022.1)\n",
      "Requirement already satisfied: pillow>=6.2.0 in c:\\users\\user\\anaconda3\\lib\\site-packages (from matplotlib->catboost) (9.2.0)\n",
      "Requirement already satisfied: kiwisolver>=1.0.1 in c:\\users\\user\\anaconda3\\lib\\site-packages (from matplotlib->catboost) (1.4.2)\n",
      "Requirement already satisfied: packaging>=20.0 in c:\\users\\user\\anaconda3\\lib\\site-packages (from matplotlib->catboost) (21.3)\n",
      "Requirement already satisfied: fonttools>=4.22.0 in c:\\users\\user\\anaconda3\\lib\\site-packages (from matplotlib->catboost) (4.25.0)\n",
      "Requirement already satisfied: pyparsing>=2.2.1 in c:\\users\\user\\anaconda3\\lib\\site-packages (from matplotlib->catboost) (3.0.9)\n",
      "Requirement already satisfied: cycler>=0.10 in c:\\users\\user\\anaconda3\\lib\\site-packages (from matplotlib->catboost) (0.11.0)\n",
      "Requirement already satisfied: tenacity>=6.2.0 in c:\\users\\user\\anaconda3\\lib\\site-packages (from plotly->catboost) (8.0.1)\n",
      "Installing collected packages: graphviz, catboost\n",
      "Successfully installed catboost-1.1.1 graphviz-0.20.1\n"
     ]
    }
   ],
   "source": [
    "!pip install catboost"
   ]
  },
  {
   "cell_type": "code",
   "execution_count": 107,
   "id": "8c605ad7",
   "metadata": {},
   "outputs": [],
   "source": [
    "from catboost import CatBoostClassifier"
   ]
  },
  {
   "cell_type": "code",
   "execution_count": 108,
   "id": "1eca2172",
   "metadata": {
    "scrolled": true
   },
   "outputs": [
    {
     "data": {
      "text/html": [
       "<div>\n",
       "<style scoped>\n",
       "    .dataframe tbody tr th:only-of-type {\n",
       "        vertical-align: middle;\n",
       "    }\n",
       "\n",
       "    .dataframe tbody tr th {\n",
       "        vertical-align: top;\n",
       "    }\n",
       "\n",
       "    .dataframe thead th {\n",
       "        text-align: right;\n",
       "    }\n",
       "</style>\n",
       "<table border=\"1\" class=\"dataframe\">\n",
       "  <thead>\n",
       "    <tr style=\"text-align: right;\">\n",
       "      <th></th>\n",
       "      <th>url_path_len</th>\n",
       "      <th>url_domain_len</th>\n",
       "      <th>url_hostname_len</th>\n",
       "      <th>url_query_len</th>\n",
       "      <th>url_entropy</th>\n",
       "      <th>html_num_tags('script')</th>\n",
       "      <th>html_num_tags('body')</th>\n",
       "      <th>html_num_tags('form')</th>\n",
       "      <th>html_num_tags('a')</th>\n",
       "      <th>label</th>\n",
       "      <th>...</th>\n",
       "      <th>html_num_tags('object')_0</th>\n",
       "      <th>html_num_tags('object')_1</th>\n",
       "      <th>html_num_tags('embed')_0</th>\n",
       "      <th>html_num_tags('embed')_1</th>\n",
       "      <th>url_num_query_para_0</th>\n",
       "      <th>url_num_query_para_1</th>\n",
       "      <th>url_num_hyphens_dom_0</th>\n",
       "      <th>url_num_hyphens_dom_1</th>\n",
       "      <th>url_num_underscores_0</th>\n",
       "      <th>url_num_underscores_1</th>\n",
       "    </tr>\n",
       "  </thead>\n",
       "  <tbody>\n",
       "    <tr>\n",
       "      <th>0</th>\n",
       "      <td>8.0</td>\n",
       "      <td>15.0</td>\n",
       "      <td>15.0</td>\n",
       "      <td>0.0</td>\n",
       "      <td>4.260333</td>\n",
       "      <td>7.0</td>\n",
       "      <td>1.0</td>\n",
       "      <td>0.0</td>\n",
       "      <td>0.0</td>\n",
       "      <td>malicious</td>\n",
       "      <td>...</td>\n",
       "      <td>1</td>\n",
       "      <td>0</td>\n",
       "      <td>1</td>\n",
       "      <td>0</td>\n",
       "      <td>1</td>\n",
       "      <td>0</td>\n",
       "      <td>1</td>\n",
       "      <td>0</td>\n",
       "      <td>1</td>\n",
       "      <td>0</td>\n",
       "    </tr>\n",
       "    <tr>\n",
       "      <th>1</th>\n",
       "      <td>58.0</td>\n",
       "      <td>17.0</td>\n",
       "      <td>17.0</td>\n",
       "      <td>0.0</td>\n",
       "      <td>4.636107</td>\n",
       "      <td>18.0</td>\n",
       "      <td>1.0</td>\n",
       "      <td>0.0</td>\n",
       "      <td>21.0</td>\n",
       "      <td>benign</td>\n",
       "      <td>...</td>\n",
       "      <td>1</td>\n",
       "      <td>0</td>\n",
       "      <td>1</td>\n",
       "      <td>0</td>\n",
       "      <td>1</td>\n",
       "      <td>0</td>\n",
       "      <td>1</td>\n",
       "      <td>0</td>\n",
       "      <td>1</td>\n",
       "      <td>0</td>\n",
       "    </tr>\n",
       "    <tr>\n",
       "      <th>2</th>\n",
       "      <td>4.0</td>\n",
       "      <td>16.0</td>\n",
       "      <td>16.0</td>\n",
       "      <td>0.0</td>\n",
       "      <td>3.708966</td>\n",
       "      <td>33.0</td>\n",
       "      <td>1.0</td>\n",
       "      <td>3.0</td>\n",
       "      <td>70.0</td>\n",
       "      <td>benign</td>\n",
       "      <td>...</td>\n",
       "      <td>1</td>\n",
       "      <td>0</td>\n",
       "      <td>1</td>\n",
       "      <td>0</td>\n",
       "      <td>1</td>\n",
       "      <td>0</td>\n",
       "      <td>1</td>\n",
       "      <td>0</td>\n",
       "      <td>1</td>\n",
       "      <td>0</td>\n",
       "    </tr>\n",
       "    <tr>\n",
       "      <th>3</th>\n",
       "      <td>13.0</td>\n",
       "      <td>14.0</td>\n",
       "      <td>14.0</td>\n",
       "      <td>0.0</td>\n",
       "      <td>4.025592</td>\n",
       "      <td>15.0</td>\n",
       "      <td>1.0</td>\n",
       "      <td>1.0</td>\n",
       "      <td>55.0</td>\n",
       "      <td>benign</td>\n",
       "      <td>...</td>\n",
       "      <td>1</td>\n",
       "      <td>0</td>\n",
       "      <td>1</td>\n",
       "      <td>0</td>\n",
       "      <td>1</td>\n",
       "      <td>0</td>\n",
       "      <td>1</td>\n",
       "      <td>0</td>\n",
       "      <td>1</td>\n",
       "      <td>0</td>\n",
       "    </tr>\n",
       "    <tr>\n",
       "      <th>4</th>\n",
       "      <td>12.0</td>\n",
       "      <td>27.0</td>\n",
       "      <td>27.0</td>\n",
       "      <td>0.0</td>\n",
       "      <td>4.631833</td>\n",
       "      <td>10.0</td>\n",
       "      <td>1.0</td>\n",
       "      <td>0.0</td>\n",
       "      <td>321.0</td>\n",
       "      <td>benign</td>\n",
       "      <td>...</td>\n",
       "      <td>1</td>\n",
       "      <td>0</td>\n",
       "      <td>1</td>\n",
       "      <td>0</td>\n",
       "      <td>1</td>\n",
       "      <td>0</td>\n",
       "      <td>0</td>\n",
       "      <td>1</td>\n",
       "      <td>1</td>\n",
       "      <td>0</td>\n",
       "    </tr>\n",
       "  </tbody>\n",
       "</table>\n",
       "<p>5 rows × 21 columns</p>\n",
       "</div>"
      ],
      "text/plain": [
       "   url_path_len  url_domain_len  url_hostname_len  url_query_len  url_entropy  \\\n",
       "0           8.0            15.0              15.0            0.0     4.260333   \n",
       "1          58.0            17.0              17.0            0.0     4.636107   \n",
       "2           4.0            16.0              16.0            0.0     3.708966   \n",
       "3          13.0            14.0              14.0            0.0     4.025592   \n",
       "4          12.0            27.0              27.0            0.0     4.631833   \n",
       "\n",
       "   html_num_tags('script')  html_num_tags('body')  html_num_tags('form')  \\\n",
       "0                      7.0                    1.0                    0.0   \n",
       "1                     18.0                    1.0                    0.0   \n",
       "2                     33.0                    1.0                    3.0   \n",
       "3                     15.0                    1.0                    1.0   \n",
       "4                     10.0                    1.0                    0.0   \n",
       "\n",
       "   html_num_tags('a')      label  ...  html_num_tags('object')_0  \\\n",
       "0                 0.0  malicious  ...                          1   \n",
       "1                21.0     benign  ...                          1   \n",
       "2                70.0     benign  ...                          1   \n",
       "3                55.0     benign  ...                          1   \n",
       "4               321.0     benign  ...                          1   \n",
       "\n",
       "   html_num_tags('object')_1  html_num_tags('embed')_0  \\\n",
       "0                          0                         1   \n",
       "1                          0                         1   \n",
       "2                          0                         1   \n",
       "3                          0                         1   \n",
       "4                          0                         1   \n",
       "\n",
       "   html_num_tags('embed')_1  url_num_query_para_0  url_num_query_para_1  \\\n",
       "0                         0                     1                     0   \n",
       "1                         0                     1                     0   \n",
       "2                         0                     1                     0   \n",
       "3                         0                     1                     0   \n",
       "4                         0                     1                     0   \n",
       "\n",
       "   url_num_hyphens_dom_0  url_num_hyphens_dom_1  url_num_underscores_0  \\\n",
       "0                      1                      0                      1   \n",
       "1                      1                      0                      1   \n",
       "2                      1                      0                      1   \n",
       "3                      1                      0                      1   \n",
       "4                      0                      1                      1   \n",
       "\n",
       "   url_num_underscores_1  \n",
       "0                      0  \n",
       "1                      0  \n",
       "2                      0  \n",
       "3                      0  \n",
       "4                      0  \n",
       "\n",
       "[5 rows x 21 columns]"
      ]
     },
     "execution_count": 108,
     "metadata": {},
     "output_type": "execute_result"
    }
   ],
   "source": [
    "train.head()"
   ]
  },
  {
   "cell_type": "code",
   "execution_count": 109,
   "id": "5940725f",
   "metadata": {},
   "outputs": [],
   "source": [
    "X = train.drop(['label','label_binary'], axis=1)\n",
    "y = train['label_binary']"
   ]
  },
  {
   "cell_type": "code",
   "execution_count": 111,
   "id": "ba25c5f7",
   "metadata": {},
   "outputs": [],
   "source": [
    "from sklearn.utils.class_weight import compute_class_weight\n",
    "\n",
    "# 불균형한 클래스인 것으로 확인되어 class_weight = 'balanced'로 설정해준다. \n",
    "classes = np.unique(y)\n",
    "weights = compute_class_weight(class_weight='balanced', classes=classes, y=y)\n",
    "class_weights = dict(zip(classes, weights))"
   ]
  },
  {
   "cell_type": "code",
   "execution_count": 112,
   "id": "6d7c7022",
   "metadata": {},
   "outputs": [
    {
     "name": "stdout",
     "output_type": "stream",
     "text": [
      "교차 검증별 정확도: [0.9454 0.9523 0.959  0.9536 0.9713]\n",
      "평균 검증 정확도: 0.9563\n"
     ]
    }
   ],
   "source": [
    "from sklearn.model_selection import cross_val_score\n",
    "cb = CatBoostClassifier(learning_rate= 0.03, max_depth= 10, n_estimators= 1000, class_weights= class_weights,\n",
    "                     subsample = 0.8, colsample_bylevel=1.0, random_state=42, verbose =0)\n",
    "\n",
    "# 성능 지표는 정확도(accuracy) , 교차 검증 세트는 5개 \n",
    "scores = cross_val_score(cb , X, y, scoring='accuracy',cv=5)\n",
    "\n",
    "print('교차 검증별 정확도:',np.round(scores, 4))\n",
    "print('평균 검증 정확도:', np.round(np.mean(scores),4))"
   ]
  },
  {
   "cell_type": "code",
   "execution_count": 113,
   "id": "e3866791",
   "metadata": {},
   "outputs": [],
   "source": [
    "cb = CatBoostClassifier(learning_rate= 0.03, max_depth= 10, n_estimators= 1000,\n",
    "                     subsample = 0.8, colsample_bylevel=1.0, random_state=42, verbose =0)"
   ]
  },
  {
   "cell_type": "code",
   "execution_count": 114,
   "id": "8db8bb1f",
   "metadata": {},
   "outputs": [
    {
     "data": {
      "text/plain": [
       "<catboost.core.CatBoostClassifier at 0x29fc21ee460>"
      ]
     },
     "execution_count": 114,
     "metadata": {},
     "output_type": "execute_result"
    }
   ],
   "source": [
    "cb.fit(X, y)"
   ]
  },
  {
   "cell_type": "code",
   "execution_count": 115,
   "id": "49001f1a",
   "metadata": {},
   "outputs": [],
   "source": [
    "pred = cb.predict(test)"
   ]
  },
  {
   "cell_type": "code",
   "execution_count": 116,
   "id": "2f1fa8d2",
   "metadata": {},
   "outputs": [
    {
     "data": {
      "text/plain": [
       "2441"
      ]
     },
     "execution_count": 116,
     "metadata": {},
     "output_type": "execute_result"
    }
   ],
   "source": [
    "len(pred)"
   ]
  },
  {
   "cell_type": "code",
   "execution_count": 117,
   "id": "49364912",
   "metadata": {},
   "outputs": [],
   "source": [
    "submission['label'] = pred"
   ]
  },
  {
   "cell_type": "code",
   "execution_count": 118,
   "id": "887d1103",
   "metadata": {},
   "outputs": [],
   "source": [
    "submission['label'] = submission['label'].apply(lambda x : 'malicious' if x == 1 else 'benign')"
   ]
  },
  {
   "cell_type": "code",
   "execution_count": 119,
   "id": "0b7d67fe",
   "metadata": {
    "scrolled": true
   },
   "outputs": [
    {
     "data": {
      "text/html": [
       "<div>\n",
       "<style scoped>\n",
       "    .dataframe tbody tr th:only-of-type {\n",
       "        vertical-align: middle;\n",
       "    }\n",
       "\n",
       "    .dataframe tbody tr th {\n",
       "        vertical-align: top;\n",
       "    }\n",
       "\n",
       "    .dataframe thead th {\n",
       "        text-align: right;\n",
       "    }\n",
       "</style>\n",
       "<table border=\"1\" class=\"dataframe\">\n",
       "  <thead>\n",
       "    <tr style=\"text-align: right;\">\n",
       "      <th></th>\n",
       "      <th>id</th>\n",
       "      <th>label</th>\n",
       "    </tr>\n",
       "  </thead>\n",
       "  <tbody>\n",
       "    <tr>\n",
       "      <th>0</th>\n",
       "      <td>0</td>\n",
       "      <td>benign</td>\n",
       "    </tr>\n",
       "    <tr>\n",
       "      <th>1</th>\n",
       "      <td>1</td>\n",
       "      <td>benign</td>\n",
       "    </tr>\n",
       "    <tr>\n",
       "      <th>2</th>\n",
       "      <td>2</td>\n",
       "      <td>benign</td>\n",
       "    </tr>\n",
       "    <tr>\n",
       "      <th>3</th>\n",
       "      <td>3</td>\n",
       "      <td>malicious</td>\n",
       "    </tr>\n",
       "    <tr>\n",
       "      <th>4</th>\n",
       "      <td>4</td>\n",
       "      <td>malicious</td>\n",
       "    </tr>\n",
       "    <tr>\n",
       "      <th>...</th>\n",
       "      <td>...</td>\n",
       "      <td>...</td>\n",
       "    </tr>\n",
       "    <tr>\n",
       "      <th>2436</th>\n",
       "      <td>2436</td>\n",
       "      <td>benign</td>\n",
       "    </tr>\n",
       "    <tr>\n",
       "      <th>2437</th>\n",
       "      <td>2437</td>\n",
       "      <td>malicious</td>\n",
       "    </tr>\n",
       "    <tr>\n",
       "      <th>2438</th>\n",
       "      <td>2438</td>\n",
       "      <td>benign</td>\n",
       "    </tr>\n",
       "    <tr>\n",
       "      <th>2439</th>\n",
       "      <td>2439</td>\n",
       "      <td>malicious</td>\n",
       "    </tr>\n",
       "    <tr>\n",
       "      <th>2440</th>\n",
       "      <td>2440</td>\n",
       "      <td>malicious</td>\n",
       "    </tr>\n",
       "  </tbody>\n",
       "</table>\n",
       "<p>2441 rows × 2 columns</p>\n",
       "</div>"
      ],
      "text/plain": [
       "        id      label\n",
       "0        0     benign\n",
       "1        1     benign\n",
       "2        2     benign\n",
       "3        3  malicious\n",
       "4        4  malicious\n",
       "...    ...        ...\n",
       "2436  2436     benign\n",
       "2437  2437  malicious\n",
       "2438  2438     benign\n",
       "2439  2439  malicious\n",
       "2440  2440  malicious\n",
       "\n",
       "[2441 rows x 2 columns]"
      ]
     },
     "execution_count": 119,
     "metadata": {},
     "output_type": "execute_result"
    }
   ],
   "source": [
    "submission"
   ]
  },
  {
   "cell_type": "code",
   "execution_count": 120,
   "id": "e5477700",
   "metadata": {},
   "outputs": [],
   "source": [
    "submission.to_csv('world_submission_3_1.csv', index = False)"
   ]
  },
  {
   "cell_type": "markdown",
   "id": "d07bc56a",
   "metadata": {},
   "source": [
    "## 모델링2"
   ]
  },
  {
   "cell_type": "code",
   "execution_count": 122,
   "id": "9f9f24aa",
   "metadata": {},
   "outputs": [
    {
     "name": "stdout",
     "output_type": "stream",
     "text": [
      "Collecting xgboost\n",
      "  Downloading xgboost-1.7.4-py3-none-win_amd64.whl (89.1 MB)\n",
      "     --------------------------------------- 89.1/89.1 MB 19.2 MB/s eta 0:00:00\n",
      "Requirement already satisfied: numpy in c:\\users\\user\\anaconda3\\lib\\site-packages (from xgboost) (1.21.5)\n",
      "Requirement already satisfied: scipy in c:\\users\\user\\anaconda3\\lib\\site-packages (from xgboost) (1.9.1)\n",
      "Installing collected packages: xgboost\n",
      "Successfully installed xgboost-1.7.4\n"
     ]
    }
   ],
   "source": [
    "!pip install xgboost"
   ]
  },
  {
   "cell_type": "code",
   "execution_count": 182,
   "id": "dd270267",
   "metadata": {},
   "outputs": [],
   "source": [
    "import xgboost as xgb "
   ]
  },
  {
   "cell_type": "code",
   "execution_count": 183,
   "id": "8842d438",
   "metadata": {},
   "outputs": [
    {
     "name": "stdout",
     "output_type": "stream",
     "text": [
      "교차 검증별 정확도: [0.9427 0.9386 0.9495 0.9631 0.9645]\n",
      "평균 검증 정확도: 0.9517\n"
     ]
    }
   ],
   "source": [
    "from sklearn.model_selection import cross_val_score\n",
    "xg = xgb.XGBClassifier()\n",
    "\n",
    "# 성능 지표는 정확도(accuracy) , 교차 검증 세트는 5개 \n",
    "scores = cross_val_score(xg , X, y, scoring='accuracy',cv=5)\n",
    "\n",
    "print('교차 검증별 정확도:',np.round(scores, 4))\n",
    "print('평균 검증 정확도:', np.round(np.mean(scores),4))"
   ]
  },
  {
   "cell_type": "code",
   "execution_count": 278,
   "id": "010a8a59",
   "metadata": {
    "scrolled": true
   },
   "outputs": [
    {
     "data": {
      "text/plain": [
       "XGBClassifier(base_score=None, booster=None, callbacks=None,\n",
       "              colsample_bylevel=None, colsample_bynode=None,\n",
       "              colsample_bytree=None, early_stopping_rounds=None,\n",
       "              enable_categorical=False, eval_metric=None, feature_types=None,\n",
       "              gamma=None, gpu_id=None, grow_policy=None, importance_type=None,\n",
       "              interaction_constraints=None, learning_rate=None, max_bin=None,\n",
       "              max_cat_threshold=None, max_cat_to_onehot=None,\n",
       "              max_delta_step=None, max_depth=None, max_leaves=None,\n",
       "              min_child_weight=None, missing=nan, monotone_constraints=None,\n",
       "              n_estimators=100, n_jobs=None, num_parallel_tree=None,\n",
       "              predictor=None, random_state=None, ...)"
      ]
     },
     "execution_count": 278,
     "metadata": {},
     "output_type": "execute_result"
    }
   ],
   "source": [
    "xg.fit(X, y)"
   ]
  },
  {
   "cell_type": "code",
   "execution_count": 185,
   "id": "711bf61b",
   "metadata": {},
   "outputs": [],
   "source": [
    "pred = xg.predict(test)"
   ]
  },
  {
   "cell_type": "code",
   "execution_count": null,
   "id": "aa0b3478",
   "metadata": {},
   "outputs": [],
   "source": []
  },
  {
   "cell_type": "code",
   "execution_count": 186,
   "id": "ff9ee682",
   "metadata": {},
   "outputs": [
    {
     "data": {
      "text/plain": [
       "2441"
      ]
     },
     "execution_count": 186,
     "metadata": {},
     "output_type": "execute_result"
    }
   ],
   "source": [
    "len(pred)"
   ]
  },
  {
   "cell_type": "code",
   "execution_count": 187,
   "id": "dfd7786a",
   "metadata": {},
   "outputs": [],
   "source": [
    "submission['label'] = pred"
   ]
  },
  {
   "cell_type": "code",
   "execution_count": 188,
   "id": "f3b09677",
   "metadata": {},
   "outputs": [],
   "source": [
    "submission['label'] = submission['label'].apply(lambda x : 'malicious' if x == 1 else 'benign')"
   ]
  },
  {
   "cell_type": "code",
   "execution_count": 189,
   "id": "5573354d",
   "metadata": {
    "scrolled": true
   },
   "outputs": [
    {
     "data": {
      "text/html": [
       "<div>\n",
       "<style scoped>\n",
       "    .dataframe tbody tr th:only-of-type {\n",
       "        vertical-align: middle;\n",
       "    }\n",
       "\n",
       "    .dataframe tbody tr th {\n",
       "        vertical-align: top;\n",
       "    }\n",
       "\n",
       "    .dataframe thead th {\n",
       "        text-align: right;\n",
       "    }\n",
       "</style>\n",
       "<table border=\"1\" class=\"dataframe\">\n",
       "  <thead>\n",
       "    <tr style=\"text-align: right;\">\n",
       "      <th></th>\n",
       "      <th>id</th>\n",
       "      <th>label</th>\n",
       "    </tr>\n",
       "  </thead>\n",
       "  <tbody>\n",
       "    <tr>\n",
       "      <th>0</th>\n",
       "      <td>0</td>\n",
       "      <td>benign</td>\n",
       "    </tr>\n",
       "    <tr>\n",
       "      <th>1</th>\n",
       "      <td>1</td>\n",
       "      <td>benign</td>\n",
       "    </tr>\n",
       "    <tr>\n",
       "      <th>2</th>\n",
       "      <td>2</td>\n",
       "      <td>benign</td>\n",
       "    </tr>\n",
       "    <tr>\n",
       "      <th>3</th>\n",
       "      <td>3</td>\n",
       "      <td>malicious</td>\n",
       "    </tr>\n",
       "    <tr>\n",
       "      <th>4</th>\n",
       "      <td>4</td>\n",
       "      <td>malicious</td>\n",
       "    </tr>\n",
       "    <tr>\n",
       "      <th>...</th>\n",
       "      <td>...</td>\n",
       "      <td>...</td>\n",
       "    </tr>\n",
       "    <tr>\n",
       "      <th>2436</th>\n",
       "      <td>2436</td>\n",
       "      <td>benign</td>\n",
       "    </tr>\n",
       "    <tr>\n",
       "      <th>2437</th>\n",
       "      <td>2437</td>\n",
       "      <td>malicious</td>\n",
       "    </tr>\n",
       "    <tr>\n",
       "      <th>2438</th>\n",
       "      <td>2438</td>\n",
       "      <td>benign</td>\n",
       "    </tr>\n",
       "    <tr>\n",
       "      <th>2439</th>\n",
       "      <td>2439</td>\n",
       "      <td>malicious</td>\n",
       "    </tr>\n",
       "    <tr>\n",
       "      <th>2440</th>\n",
       "      <td>2440</td>\n",
       "      <td>malicious</td>\n",
       "    </tr>\n",
       "  </tbody>\n",
       "</table>\n",
       "<p>2441 rows × 2 columns</p>\n",
       "</div>"
      ],
      "text/plain": [
       "        id      label\n",
       "0        0     benign\n",
       "1        1     benign\n",
       "2        2     benign\n",
       "3        3  malicious\n",
       "4        4  malicious\n",
       "...    ...        ...\n",
       "2436  2436     benign\n",
       "2437  2437  malicious\n",
       "2438  2438     benign\n",
       "2439  2439  malicious\n",
       "2440  2440  malicious\n",
       "\n",
       "[2441 rows x 2 columns]"
      ]
     },
     "execution_count": 189,
     "metadata": {},
     "output_type": "execute_result"
    }
   ],
   "source": [
    "submission"
   ]
  },
  {
   "cell_type": "code",
   "execution_count": 190,
   "id": "73f09f10",
   "metadata": {},
   "outputs": [],
   "source": [
    "submission.to_csv('world_submission_3_3.csv', index = False)"
   ]
  }
 ],
 "metadata": {
  "kernelspec": {
   "display_name": "Python 3 (ipykernel)",
   "language": "python",
   "name": "python3"
  },
  "language_info": {
   "codemirror_mode": {
    "name": "ipython",
    "version": 3
   },
   "file_extension": ".py",
   "mimetype": "text/x-python",
   "name": "python",
   "nbconvert_exporter": "python",
   "pygments_lexer": "ipython3",
   "version": "3.9.13"
  }
 },
 "nbformat": 4,
 "nbformat_minor": 5
}
